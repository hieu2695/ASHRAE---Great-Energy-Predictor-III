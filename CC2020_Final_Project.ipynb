{
 "cells": [
  {
   "cell_type": "markdown",
   "metadata": {},
   "source": [
    "<h1 style = 'text-align: center;'>DATS 6450 Final Project</h1>\n",
    "<h1 style = 'text-align: center;'>ASHRAE - Great Energy Predictor III</h1>\n",
    "<h3 style = 'text-align: center;'>Authors: Tran Hieu Le, Voratham Tiabrat</h3>"
   ]
  },
  {
   "cell_type": "markdown",
   "metadata": {},
   "source": [
    "<h1>Table of Contents<span class=\"tocSkip\"></span></h1>\n",
    "\n",
    "<div class=\"toc\"><ul class=\"toc-item\"><li><span><a href=\"#Introduction\" data-toc-modified-id=\"Introduction-1\"><span class=\"toc-item-num\">1&nbsp;&nbsp;</span>Introduction</a></span>\n",
    "    \n",
    "<li><span><a href=\"#Dataset\" data-toc-modified-id=\"Dataset-2\"><span class=\"toc-item-num\">2&nbsp;&nbsp;</span>Dataset</a></span>\n",
    "\n",
    "<li><span><a href=\"#Scope-of-the-Project-and-Objectives\" data-toc-modified-id=\"Scope-of-the-Project-and-Objectives-3\"><span class=\"toc-item-num\">3&nbsp;&nbsp;</span>Scope of the Project and Objectives</a></span>\n",
    "\n",
    "<li><span><a href=\"#Data-Preprocessing\" data-toc-modified-id=\"Data-Preprocessing-4\"><span class=\"toc-item-num\">4&nbsp;&nbsp;</span>Data Preprocessing</a></span><ul class=\"toc-item\"><li><span><a href=\"#Import-Libraries\" data-toc-modified-id=\"Import-Libraries-4.1\"><span class=\"toc-item-num\">4.1&nbsp;&nbsp;</span>Import Libraries</a></span></li><li><span><a href=\"#Load-data\" data-toc-modified-id=\"Load-data-4.2\"><span class=\"toc-item-num\">4.2&nbsp;&nbsp;</span>Load data</a></span></li><li><span><a href=\"#Data-information\" data-toc-modified-id=\"Data-information-4.3\"><span class=\"toc-item-num\">4.3&nbsp;&nbsp;</span>Data information</a></span></li><li><span><a href=\"#Getting-the-name-of-target-variable\" data-toc-modified-id=\"Getting-the-name-of-target-variable-4.4\"><span class=\"toc-item-num\">4.4&nbsp;&nbsp;</span>Getting the name of target variable</a></span></li><li><span><a href=\"#Handling-rows-with-missing-data-for-target-variable\" data-toc-modified-id=\"Handling-rows-with-missing-data-for-target-variable-4.5\"><span class=\"toc-item-num\">4.5&nbsp;&nbsp;</span>Handling rows with missing data for target variable</a></span></li><li><span><a href=\"#Handling-rows-with-abnormal-data-for-target-variable\" data-toc-modified-id=\"Handling-rows-with-abnormal-data-for-target-variable-4.6\"><span class=\"toc-item-num\">4.6&nbsp;&nbsp;</span>Handling rows with abnormal data for target variable</a></span></li><li><span><a href=\"#Dividing-the-training-data-into-training-and-validation\" data-toc-modified-id=\"Dividing-the-training-data-into-training-and-validation-4.7\"><span class=\"toc-item-num\">4.7&nbsp;&nbsp;</span>Dividing the training data into training and validation</a></span></li><li><span><a href=\"#Handling-date-time-variables\" data-toc-modified-id=\"Handling-date-time-variables-4.8\"><span class=\"toc-item-num\">4.8&nbsp;&nbsp;</span>Handling date time variables</a></span></li><li><span><a href=\"#Handling-missing-data\" data-toc-modified-id=\"Handling-missing-data-4.9\"><span class=\"toc-item-num\">4.9&nbsp;&nbsp;</span>Handling missing data</a></span><ul class=\"toc-item\"><li><span><a href=\"#Identifying-missing-values\" data-toc-modified-id=\"Identifying-missing-values-4.9.1\"><span class=\"toc-item-num\">4.9.1&nbsp;&nbsp;</span>Identifying missing values</a></span></li><li><span><a href=\"#Dropping-columns-with-high-proportion-of-missing-values\" data-toc-modified-id=\"Dropping-columns-with-high-proportion-of-missing-values-4.9.2\"><span class=\"toc-item-num\">4.9.2&nbsp;&nbsp;</span>Dropping columns with high proportion of missing values</a></span></li><li><span><a href=\"#Removing-rows-of-variables-with-small-proportion-of-missing-values\" data-toc-modified-id=\"Removing-rows-of-variables-with-small-proportion-of-missing-values-4.9.3\"><span class=\"toc-item-num\">4.9.3&nbsp;&nbsp;</span>Removing rows of variables with small proportion of missing values</a></span></li><li><span><a href=\"#Imputing-missing-values\" data-toc-modified-id=\"Imputing-missing-values-4.9.4\"><span class=\"toc-item-num\">4.9.4&nbsp;&nbsp;</span>Imputing missing values</a></span></li></ul></li><li><span><a href=\"#Changing-data-type\" data-toc-modified-id=\"Changing-data-type-4.10\"><span class=\"toc-item-num\">4.10&nbsp;&nbsp;</span>Changing data type</a></span></li><li><span><a href=\"#Encoding-the-categorical-variables\" data-toc-modified-id=\"Encoding-the-categorical-variables-4.11\"><span class=\"toc-item-num\">4.11&nbsp;&nbsp;</span>Encoding the categorical variables</a></span></li><ul class=\"toc-item\"><li><span><a href=\"#Identifying-missing-values\" data-toc-modified-id=\"Identifying-missing-values-4.11.1\"><span class=\"toc-item-num\">4.11.1&nbsp;&nbsp;</span>Identifying missing values</a></span></li><li><span><a href=\"#One-hot-encoding-the-categorical-variables\" data-toc-modified-id=\"One-hot-encoding-the-categorical-variables-4.11.2\"><span class=\"toc-item-num\">4.11.2&nbsp;&nbsp;</span>One-hot encoding the categorical variables</a></span></li><li><span><a href=\"#Seperating-training-and-validation-sets\" data-toc-modified-id=\"Seperating-training-and-validation-sets-4.11.3\"><span class=\"toc-item-num\">4.11.3&nbsp;&nbsp;</span>Seperating training and validation sets</a></span></li></ul><li><span><a href=\"#Scaling-data\" data-toc-modified-id=\"Scaling-data-4.12\"><span class=\"toc-item-num\">4.12&nbsp;&nbsp;</span>Scaling data</a></span></li><ul class=\"toc-item\"><li><span><a href=\"#Transforming-target-variable-using-Natural-logarithm\" data-toc-modified-id=\"Transforming-target-variable-using-Natural-logarithm-4.12.1\"><span class=\"toc-item-num\">4.12.1&nbsp;&nbsp;</span>Transforming target variable using Natural logarithm</a></span></li><li><span><a href=\"#Standardizing-data\" data-toc-modified-id=\"Standardizing-data-4.12.2\"><span class=\"toc-item-num\">4.12.2&nbsp;&nbsp;</span>Standardizing data</a></span></li></ul><li><span><a href=\"#Getting-feature-matrix-and-target-vector\" data-toc-modified-id=\"Getting-feature-matrix-and-target-vector-4.13\"><span class=\"toc-item-num\">4.13&nbsp;&nbsp;</span>Getting feature matrix and target vector</a></span></li></ul></li>\n",
    "\n",
    "<li><span><a href=\"#Modeling\" data-toc-modified-id=\"Modeling-5\"><span class=\"toc-item-num\">5&nbsp;&nbsp;</span>Modeling</a></span><ul class=\"toc-item\"><li><span><a href=\"#Create-a-dictionary-of-the-models\" data-toc-modified-id=\"Create-a-dictionary-of-the-models-5.1\"><span class=\"toc-item-num\">5.1&nbsp;&nbsp;</span>Create a dictionary of the models</a></span></li><li><span><a href=\"#Create-a-dictionary-of-the-pipelines\" data-toc-modified-id=\"Create-a-dictionary-of-the-pipelines-5.2\"><span class=\"toc-item-num\">5.2&nbsp;&nbsp;</span>Create a dictionary of the pipelines</a></span></li><li><span><a href=\"#Hyperparameter-tuning-and-model-selection\" data-toc-modified-id=\"Hyperparameter-tuning-and-model-selection-5.3\"><span class=\"toc-item-num\">5.3&nbsp;&nbsp;</span>Hyperparameter tuning and model selection</a></span><ul class=\"toc-item\"><li><span><a href=\"#Getting-the-predefined-split-cross-validator\" data-toc-modified-id=\"Getting-the-predefined-split-cross-validator-5.3.1\"><span class=\"toc-item-num\">5.3.1&nbsp;&nbsp;</span>Getting the predefined split cross-validator</a></span></li><li><span><a href=\"#Creating-the-dictionary-of-the-parameter-grids\" data-toc-modified-id=\"Creating-the-dictionary-of-the-parameter-grids-5.3.2\"><span class=\"toc-item-num\">5.3.2&nbsp;&nbsp;</span>Creating the dictionary of the parameter grids</a></span></li><li><span><a href=\"#The-parameter-grid-for-LinearRegression\" data-toc-modified-id=\"The-parameter-grid-for-LinearRegression-5.3.3\"><span class=\"toc-item-num\">5.3.3&nbsp;&nbsp;</span>The parameter grid for LinearRegression</a></span></li><li><span><a href=\"#The-parameter-grid-for-LightGBM\" data-toc-modified-id=\"The-parameter-grid-for-LightGBM-5.3.4\"><span class=\"toc-item-num\">5.3.4&nbsp;&nbsp;</span>The parameter grid for LightGBM</a></span></li><li><span><a href=\"#The-parameter-grid-for-MLPRegressor\" data-toc-modified-id=\"The-parameter-grid-for-MLPRegressor-5.3.5\"><span class=\"toc-item-num\">5.3.5&nbsp;&nbsp;</span>The parameter grid for MLPRegressor</a></span></li><li><span><a href=\"#Creating-the-directory-for-GridSearchCV-results\" data-toc-modified-id=\"Creating-the-directory-for-GridSearchCV-results-5.3.6\"><span class=\"toc-item-num\">5.3.6&nbsp;&nbsp;</span>Creating the directory for GridSearchCV results</a></span></li></ul></li><li><span><a href=\"#GridSearchCV-Results\" data-toc-modified-id=\"GridSearchCV-Results-5.4\"><span class=\"toc-item-num\">5.4&nbsp;&nbsp;</span>GridSearchCV Results</a></span></li><li><span><a href=\"#Feature-Importance\" data-toc-modified-id=\"Feature-Importance-5.5\"><span class=\"toc-item-num\">5.5&nbsp;&nbsp;</span>Feature Importance</a></span></li></ul></li>\n",
    "    \n",
    "<li><span><a href=\"#Conclusion\" data-toc-modified-id=\"Conclusion-6\"><span class=\"toc-item-num\">6&nbsp;&nbsp;</span>Conclusion</a></span></li>\n",
    "</div>\n"
   ]
  },
  {
   "cell_type": "markdown",
   "metadata": {},
   "source": [
    "# Introduction"
   ]
  },
  {
   "cell_type": "markdown",
   "metadata": {},
   "source": [
    "According to [NASA report](https://climate.nasa.gov/evidence/), the carbon dioxide level was always below 300 parts per million for millennia. \n",
    "\n",
    "<div style=\"text-align: justify\"><br/> However, since 1950 the level has been rapidly increasing, and reaches approximately 415 parts per million nowadays. One of the main factors to the increase of carbon dioxide level is the energy consumption of industrial buildings. To address the increasing use of energy in industry, significant investments have been made to improve building efficiencies.</div>\n",
    "\n",
    "\n",
    "<div style=\"text-align: justify\"> <br/> However, the challenge is whether the retrofits help to reduce costs and carbon dioxide emissions. A solution is to build a counterfactual machine learning model to forecast the amount of energy consumption for the original building using historic usage rates. The forecasts are compared to the actual energy consumption to calculate the savings after improvements.</div>\n"
   ]
  },
  {
   "cell_type": "markdown",
   "metadata": {},
   "source": [
    "# Dataset"
   ]
  },
  {
   "cell_type": "markdown",
   "metadata": {},
   "source": [
    "The data for this project comes from the Kaggle competition [ASHRAE - Great Energy Predictor III](https://www.kaggle.com/c/ashrae-energy-prediction/data). \n",
    "\n",
    "<div style=\"text-align: justify\">\n",
    "    <br/>\n",
    "There are 3 datasets: the train.csv containing the meter reading, building.csv containing the information of buildings and weather_train.csv containing the weather status in different locations in a particular time. In summary, there are over 20 million observations and 16 variables. The target variable is the energy consumption recorded as meter reading. The predictors are the type of energy (i.e. electricity, chilled water, hot water and steam), the primary use of the building, the gross floor area, the time when the building was opened, the number of floors in the building and meteorological factors such as wind, cloud, temperature and pressure.</div>\n"
   ]
  },
  {
   "cell_type": "markdown",
   "metadata": {},
   "source": [
    "# Scope of the Project and Objectives"
   ]
  },
  {
   "cell_type": "markdown",
   "metadata": {},
   "source": [
    "<div style=\"text-align: justify\"> Due to the large sample size of the data, a virtual machine is required for data preprocessing and training and fine-tuning the models. In this project, we use AWS services to handle these tasks. S3 is used for storage of data and results. AWS Athena with interactive SQL queries is used for roughly analysis and joining the datasets. AWS Sagemaker provides jupyter notebook with preinstalled packages and libraries and association to github repository, which are helpful for feature engineering and building models. A private VPC network is assigned to AWS Sagemaker instance to ensured secure programming in the notebook.</div>\n",
    "\n",
    "<div style=\"text-align: justify\"><br/> The primary purpose of this project is to build the counterfactual model to forecast energy consume of original building from historic data and then compare it with actually energy consumption with the retrofit. The saving would help large scale investors and financial institutions clearly see the effective of the improvement and become more inclined to invest in this area to enable progress in building efficiencies. Moreover, this project is expected to provide a useful empirical experience relating to Cloud Computing using AWS services.</div>"
   ]
  },
  {
   "cell_type": "markdown",
   "metadata": {},
   "source": [
    "# Data Preprocessing"
   ]
  },
  {
   "cell_type": "markdown",
   "metadata": {},
   "source": [
    "## Import Libraries"
   ]
  },
  {
   "cell_type": "code",
   "execution_count": 1,
   "metadata": {},
   "outputs": [],
   "source": [
    "import boto3\n",
    "import pandas as pd\n",
    "import numpy as np\n",
    "import sagemaker"
   ]
  },
  {
   "cell_type": "code",
   "execution_count": 2,
   "metadata": {},
   "outputs": [],
   "source": [
    "import matplotlib.pyplot as plt\n",
    "%matplotlib inline \n",
    "\n",
    "# Set matplotlib sizes\n",
    "plt.rc('font', size=10)\n",
    "plt.rc('axes', titlesize=15)\n",
    "plt.rc('axes', labelsize=15)\n",
    "plt.rc('xtick', labelsize=10)\n",
    "plt.rc('ytick', labelsize=10)\n",
    "plt.rc('legend', fontsize=10)\n",
    "plt.rc('figure', titlesize=20)"
   ]
  },
  {
   "cell_type": "code",
   "execution_count": 3,
   "metadata": {},
   "outputs": [],
   "source": [
    "import warnings\n",
    "\n",
    "# Ignore warnings\n",
    "warnings.filterwarnings('ignore')"
   ]
  },
  {
   "cell_type": "markdown",
   "metadata": {},
   "source": [
    "## Load data\n",
    "In this part, we will define the S3 bucket that is used for this project and load the dataset preprocessed by AWS Athena."
   ]
  },
  {
   "cell_type": "code",
   "execution_count": 4,
   "metadata": {},
   "outputs": [],
   "source": [
    "# Get SageMaker session & default S3 bucket\n",
    "role = sagemaker.get_execution_role()\n",
    "sagemaker_session = sagemaker.Session()\n",
    "region = sagemaker_session.boto_region_name\n",
    "s3 = sagemaker_session.boto_session.resource('s3')\n",
    "bucket='dataset.finalproject.cc2020'\n",
    "data_path = 'fulldata/energy_dataset.csv'\n",
    "data_location = 's3://{}/{}'.format(bucket, data_path)\n",
    "\n",
    "df_raw = pd.read_csv(data_location) # load data from S3 bucket"
   ]
  },
  {
   "cell_type": "code",
   "execution_count": 5,
   "metadata": {},
   "outputs": [],
   "source": [
    "df_train = df_raw.copy(deep=True) # make a copy of the raw data"
   ]
  },
  {
   "cell_type": "code",
   "execution_count": 6,
   "metadata": {},
   "outputs": [
    {
     "data": {
      "text/html": [
       "<div>\n",
       "<style scoped>\n",
       "    .dataframe tbody tr th:only-of-type {\n",
       "        vertical-align: middle;\n",
       "    }\n",
       "\n",
       "    .dataframe tbody tr th {\n",
       "        vertical-align: top;\n",
       "    }\n",
       "\n",
       "    .dataframe thead th {\n",
       "        text-align: right;\n",
       "    }\n",
       "</style>\n",
       "<table border=\"1\" class=\"dataframe\">\n",
       "  <thead>\n",
       "    <tr style=\"text-align: right;\">\n",
       "      <th></th>\n",
       "      <th>meter</th>\n",
       "      <th>meter_reading</th>\n",
       "      <th>building_id</th>\n",
       "      <th>primary_use</th>\n",
       "      <th>square_feet</th>\n",
       "      <th>year_built</th>\n",
       "      <th>floor_count</th>\n",
       "      <th>site_id</th>\n",
       "      <th>timestamp</th>\n",
       "      <th>air_temperature</th>\n",
       "      <th>cloud_coverage</th>\n",
       "      <th>dew_temperature</th>\n",
       "      <th>precip_depth_1_hr</th>\n",
       "      <th>sea_level_pressure</th>\n",
       "      <th>wind_direction</th>\n",
       "      <th>wind_speed</th>\n",
       "    </tr>\n",
       "  </thead>\n",
       "  <tbody>\n",
       "    <tr>\n",
       "      <th>0</th>\n",
       "      <td>0.0</td>\n",
       "      <td>0.00</td>\n",
       "      <td>0.0</td>\n",
       "      <td>Education</td>\n",
       "      <td>7432.0</td>\n",
       "      <td>2008.0</td>\n",
       "      <td>NaN</td>\n",
       "      <td>0.0</td>\n",
       "      <td>2016-05-11 06:00:00.000</td>\n",
       "      <td>21.1</td>\n",
       "      <td>8.0</td>\n",
       "      <td>18.3</td>\n",
       "      <td>0.0</td>\n",
       "      <td>1020.4</td>\n",
       "      <td>150.0</td>\n",
       "      <td>2.1</td>\n",
       "    </tr>\n",
       "    <tr>\n",
       "      <th>1</th>\n",
       "      <td>0.0</td>\n",
       "      <td>0.00</td>\n",
       "      <td>7.0</td>\n",
       "      <td>Education</td>\n",
       "      <td>121074.0</td>\n",
       "      <td>1989.0</td>\n",
       "      <td>NaN</td>\n",
       "      <td>0.0</td>\n",
       "      <td>2016-05-11 06:00:00.000</td>\n",
       "      <td>21.1</td>\n",
       "      <td>8.0</td>\n",
       "      <td>18.3</td>\n",
       "      <td>0.0</td>\n",
       "      <td>1020.4</td>\n",
       "      <td>150.0</td>\n",
       "      <td>2.1</td>\n",
       "    </tr>\n",
       "    <tr>\n",
       "      <th>2</th>\n",
       "      <td>1.0</td>\n",
       "      <td>2785.88</td>\n",
       "      <td>7.0</td>\n",
       "      <td>Education</td>\n",
       "      <td>121074.0</td>\n",
       "      <td>1989.0</td>\n",
       "      <td>NaN</td>\n",
       "      <td>0.0</td>\n",
       "      <td>2016-05-11 06:00:00.000</td>\n",
       "      <td>21.1</td>\n",
       "      <td>8.0</td>\n",
       "      <td>18.3</td>\n",
       "      <td>0.0</td>\n",
       "      <td>1020.4</td>\n",
       "      <td>150.0</td>\n",
       "      <td>2.1</td>\n",
       "    </tr>\n",
       "    <tr>\n",
       "      <th>3</th>\n",
       "      <td>0.0</td>\n",
       "      <td>0.00</td>\n",
       "      <td>11.0</td>\n",
       "      <td>Education</td>\n",
       "      <td>49073.0</td>\n",
       "      <td>1968.0</td>\n",
       "      <td>NaN</td>\n",
       "      <td>0.0</td>\n",
       "      <td>2016-05-11 06:00:00.000</td>\n",
       "      <td>21.1</td>\n",
       "      <td>8.0</td>\n",
       "      <td>18.3</td>\n",
       "      <td>0.0</td>\n",
       "      <td>1020.4</td>\n",
       "      <td>150.0</td>\n",
       "      <td>2.1</td>\n",
       "    </tr>\n",
       "    <tr>\n",
       "      <th>4</th>\n",
       "      <td>0.0</td>\n",
       "      <td>0.00</td>\n",
       "      <td>14.0</td>\n",
       "      <td>Education</td>\n",
       "      <td>86250.0</td>\n",
       "      <td>2013.0</td>\n",
       "      <td>NaN</td>\n",
       "      <td>0.0</td>\n",
       "      <td>2016-05-11 06:00:00.000</td>\n",
       "      <td>21.1</td>\n",
       "      <td>8.0</td>\n",
       "      <td>18.3</td>\n",
       "      <td>0.0</td>\n",
       "      <td>1020.4</td>\n",
       "      <td>150.0</td>\n",
       "      <td>2.1</td>\n",
       "    </tr>\n",
       "  </tbody>\n",
       "</table>\n",
       "</div>"
      ],
      "text/plain": [
       "   meter  meter_reading  building_id primary_use  square_feet  year_built  \\\n",
       "0    0.0           0.00          0.0   Education       7432.0      2008.0   \n",
       "1    0.0           0.00          7.0   Education     121074.0      1989.0   \n",
       "2    1.0        2785.88          7.0   Education     121074.0      1989.0   \n",
       "3    0.0           0.00         11.0   Education      49073.0      1968.0   \n",
       "4    0.0           0.00         14.0   Education      86250.0      2013.0   \n",
       "\n",
       "   floor_count  site_id                timestamp  air_temperature  \\\n",
       "0          NaN      0.0  2016-05-11 06:00:00.000             21.1   \n",
       "1          NaN      0.0  2016-05-11 06:00:00.000             21.1   \n",
       "2          NaN      0.0  2016-05-11 06:00:00.000             21.1   \n",
       "3          NaN      0.0  2016-05-11 06:00:00.000             21.1   \n",
       "4          NaN      0.0  2016-05-11 06:00:00.000             21.1   \n",
       "\n",
       "   cloud_coverage  dew_temperature  precip_depth_1_hr  sea_level_pressure  \\\n",
       "0             8.0             18.3                0.0              1020.4   \n",
       "1             8.0             18.3                0.0              1020.4   \n",
       "2             8.0             18.3                0.0              1020.4   \n",
       "3             8.0             18.3                0.0              1020.4   \n",
       "4             8.0             18.3                0.0              1020.4   \n",
       "\n",
       "   wind_direction  wind_speed  \n",
       "0           150.0         2.1  \n",
       "1           150.0         2.1  \n",
       "2           150.0         2.1  \n",
       "3           150.0         2.1  \n",
       "4           150.0         2.1  "
      ]
     },
     "execution_count": 6,
     "metadata": {},
     "output_type": "execute_result"
    }
   ],
   "source": [
    "df_train.head() # print first 5 rows of df_train"
   ]
  },
  {
   "cell_type": "code",
   "execution_count": 7,
   "metadata": {},
   "outputs": [
    {
     "data": {
      "text/html": [
       "<div>\n",
       "<style scoped>\n",
       "    .dataframe tbody tr th:only-of-type {\n",
       "        vertical-align: middle;\n",
       "    }\n",
       "\n",
       "    .dataframe tbody tr th {\n",
       "        vertical-align: top;\n",
       "    }\n",
       "\n",
       "    .dataframe thead th {\n",
       "        text-align: right;\n",
       "    }\n",
       "</style>\n",
       "<table border=\"1\" class=\"dataframe\">\n",
       "  <thead>\n",
       "    <tr style=\"text-align: right;\">\n",
       "      <th></th>\n",
       "      <th># rows</th>\n",
       "      <th># columns</th>\n",
       "    </tr>\n",
       "  </thead>\n",
       "  <tbody>\n",
       "    <tr>\n",
       "      <th>0</th>\n",
       "      <td>20216101</td>\n",
       "      <td>16</td>\n",
       "    </tr>\n",
       "  </tbody>\n",
       "</table>\n",
       "</div>"
      ],
      "text/plain": [
       "     # rows  # columns\n",
       "0  20216101         16"
      ]
     },
     "execution_count": 7,
     "metadata": {},
     "output_type": "execute_result"
    }
   ],
   "source": [
    "# Print the dimension of df_train\n",
    "pd.DataFrame([[df_train.shape[0], df_train.shape[1]]], columns=['# rows', '# columns'])"
   ]
  },
  {
   "cell_type": "markdown",
   "metadata": {},
   "source": [
    "## Data information"
   ]
  },
  {
   "cell_type": "code",
   "execution_count": 8,
   "metadata": {},
   "outputs": [
    {
     "name": "stdout",
     "output_type": "stream",
     "text": [
      "<class 'pandas.core.frame.DataFrame'>\n",
      "RangeIndex: 20216101 entries, 0 to 20216100\n",
      "Data columns (total 16 columns):\n",
      " #   Column              Dtype  \n",
      "---  ------              -----  \n",
      " 0   meter               float64\n",
      " 1   meter_reading       float64\n",
      " 2   building_id         float64\n",
      " 3   primary_use         object \n",
      " 4   square_feet         float64\n",
      " 5   year_built          float64\n",
      " 6   floor_count         float64\n",
      " 7   site_id             float64\n",
      " 8   timestamp           object \n",
      " 9   air_temperature     float64\n",
      " 10  cloud_coverage      float64\n",
      " 11  dew_temperature     float64\n",
      " 12  precip_depth_1_hr   float64\n",
      " 13  sea_level_pressure  float64\n",
      " 14  wind_direction      float64\n",
      " 15  wind_speed          float64\n",
      "dtypes: float64(14), object(2)\n",
      "memory usage: 2.4+ GB\n"
     ]
    }
   ],
   "source": [
    "df_train.info()"
   ]
  },
  {
   "cell_type": "markdown",
   "metadata": {},
   "source": [
    "The meter column indicates the energy types which are categorical variable. Therefore, we need to convert the column into object type."
   ]
  },
  {
   "cell_type": "code",
   "execution_count": 9,
   "metadata": {},
   "outputs": [],
   "source": [
    "# change meter dtypes from float64 to object\n",
    "df_train['meter'] = df_train['meter'].astype('object') "
   ]
  },
  {
   "cell_type": "code",
   "execution_count": 10,
   "metadata": {},
   "outputs": [
    {
     "name": "stdout",
     "output_type": "stream",
     "text": [
      "<class 'pandas.core.frame.DataFrame'>\n",
      "RangeIndex: 20216101 entries, 0 to 20216100\n",
      "Data columns (total 16 columns):\n",
      " #   Column              Dtype  \n",
      "---  ------              -----  \n",
      " 0   meter               object \n",
      " 1   meter_reading       float64\n",
      " 2   building_id         float64\n",
      " 3   primary_use         object \n",
      " 4   square_feet         float64\n",
      " 5   year_built          float64\n",
      " 6   floor_count         float64\n",
      " 7   site_id             float64\n",
      " 8   timestamp           object \n",
      " 9   air_temperature     float64\n",
      " 10  cloud_coverage      float64\n",
      " 11  dew_temperature     float64\n",
      " 12  precip_depth_1_hr   float64\n",
      " 13  sea_level_pressure  float64\n",
      " 14  wind_direction      float64\n",
      " 15  wind_speed          float64\n",
      "dtypes: float64(13), object(3)\n",
      "memory usage: 2.4+ GB\n"
     ]
    }
   ],
   "source": [
    "df_train.info() # rechecking dtypes"
   ]
  },
  {
   "cell_type": "markdown",
   "metadata": {},
   "source": [
    "## Getting the name of target variable"
   ]
  },
  {
   "cell_type": "code",
   "execution_count": 11,
   "metadata": {},
   "outputs": [],
   "source": [
    "target = \"meter_reading\" # the prediction target"
   ]
  },
  {
   "cell_type": "markdown",
   "metadata": {},
   "source": [
    "## Handling rows with missing data for target variable"
   ]
  },
  {
   "cell_type": "code",
   "execution_count": 12,
   "metadata": {},
   "outputs": [
    {
     "data": {
      "text/plain": [
       "True"
      ]
     },
     "execution_count": 12,
     "metadata": {},
     "output_type": "execute_result"
    }
   ],
   "source": [
    "df_train[target].isnull().values.any()"
   ]
  },
  {
   "cell_type": "code",
   "execution_count": 13,
   "metadata": {},
   "outputs": [
    {
     "data": {
      "text/html": [
       "<div>\n",
       "<style scoped>\n",
       "    .dataframe tbody tr th:only-of-type {\n",
       "        vertical-align: middle;\n",
       "    }\n",
       "\n",
       "    .dataframe tbody tr th {\n",
       "        vertical-align: top;\n",
       "    }\n",
       "\n",
       "    .dataframe thead th {\n",
       "        text-align: right;\n",
       "    }\n",
       "</style>\n",
       "<table border=\"1\" class=\"dataframe\">\n",
       "  <thead>\n",
       "    <tr style=\"text-align: right;\">\n",
       "      <th></th>\n",
       "      <th>meter</th>\n",
       "      <th>meter_reading</th>\n",
       "      <th>building_id</th>\n",
       "      <th>primary_use</th>\n",
       "      <th>square_feet</th>\n",
       "      <th>year_built</th>\n",
       "      <th>floor_count</th>\n",
       "      <th>site_id</th>\n",
       "      <th>timestamp</th>\n",
       "      <th>air_temperature</th>\n",
       "      <th>cloud_coverage</th>\n",
       "      <th>dew_temperature</th>\n",
       "      <th>precip_depth_1_hr</th>\n",
       "      <th>sea_level_pressure</th>\n",
       "      <th>wind_direction</th>\n",
       "      <th>wind_speed</th>\n",
       "    </tr>\n",
       "  </thead>\n",
       "  <tbody>\n",
       "    <tr>\n",
       "      <th>10414</th>\n",
       "      <td>NaN</td>\n",
       "      <td>NaN</td>\n",
       "      <td>NaN</td>\n",
       "      <td>NaN</td>\n",
       "      <td>NaN</td>\n",
       "      <td>NaN</td>\n",
       "      <td>NaN</td>\n",
       "      <td>NaN</td>\n",
       "      <td>NaN</td>\n",
       "      <td>NaN</td>\n",
       "      <td>NaN</td>\n",
       "      <td>NaN</td>\n",
       "      <td>NaN</td>\n",
       "      <td>NaN</td>\n",
       "      <td>NaN</td>\n",
       "      <td>NaN</td>\n",
       "    </tr>\n",
       "  </tbody>\n",
       "</table>\n",
       "</div>"
      ],
      "text/plain": [
       "      meter  meter_reading  building_id primary_use  square_feet  year_built  \\\n",
       "10414   NaN            NaN          NaN         NaN          NaN         NaN   \n",
       "\n",
       "       floor_count  site_id timestamp  air_temperature  cloud_coverage  \\\n",
       "10414          NaN      NaN       NaN              NaN             NaN   \n",
       "\n",
       "       dew_temperature  precip_depth_1_hr  sea_level_pressure  wind_direction  \\\n",
       "10414              NaN                NaN                 NaN             NaN   \n",
       "\n",
       "       wind_speed  \n",
       "10414         NaN  "
      ]
     },
     "execution_count": 13,
     "metadata": {},
     "output_type": "execute_result"
    }
   ],
   "source": [
    "df_train[df_train[target].isnull()]"
   ]
  },
  {
   "cell_type": "code",
   "execution_count": 14,
   "metadata": {},
   "outputs": [],
   "source": [
    "df_train.dropna(subset = [target], inplace=True) # drop the nan row"
   ]
  },
  {
   "cell_type": "markdown",
   "metadata": {},
   "source": [
    "## Handling rows with abnormal data for target variable"
   ]
  },
  {
   "cell_type": "markdown",
   "metadata": {},
   "source": [
    "According to [this discussion](https://www.kaggle.com/c/ashrae-energy-prediction/discussion/113054), the records for electricity consumption for buildings of site_id 0 are abnormal until May 20. Therefore, we should remove these values to improve the prediction."
   ]
  },
  {
   "cell_type": "code",
   "execution_count": 15,
   "metadata": {},
   "outputs": [],
   "source": [
    "df_train = df_train.query('not (building_id <= 104 & meter == 0 & timestamp <= \"2016-05-20\")')"
   ]
  },
  {
   "cell_type": "code",
   "execution_count": 16,
   "metadata": {},
   "outputs": [
    {
     "data": {
      "text/html": [
       "<div>\n",
       "<style scoped>\n",
       "    .dataframe tbody tr th:only-of-type {\n",
       "        vertical-align: middle;\n",
       "    }\n",
       "\n",
       "    .dataframe tbody tr th {\n",
       "        vertical-align: top;\n",
       "    }\n",
       "\n",
       "    .dataframe thead th {\n",
       "        text-align: right;\n",
       "    }\n",
       "</style>\n",
       "<table border=\"1\" class=\"dataframe\">\n",
       "  <thead>\n",
       "    <tr style=\"text-align: right;\">\n",
       "      <th></th>\n",
       "      <th># rows</th>\n",
       "      <th># columns</th>\n",
       "    </tr>\n",
       "  </thead>\n",
       "  <tbody>\n",
       "    <tr>\n",
       "      <th>0</th>\n",
       "      <td>19869988</td>\n",
       "      <td>16</td>\n",
       "    </tr>\n",
       "  </tbody>\n",
       "</table>\n",
       "</div>"
      ],
      "text/plain": [
       "     # rows  # columns\n",
       "0  19869988         16"
      ]
     },
     "execution_count": 16,
     "metadata": {},
     "output_type": "execute_result"
    }
   ],
   "source": [
    "# Print the dimension of df_train\n",
    "pd.DataFrame([[df_train.shape[0], df_train.shape[1]]], columns=['# rows', '# columns'])"
   ]
  },
  {
   "cell_type": "markdown",
   "metadata": {},
   "source": [
    "## Dividing the training data into training and validation"
   ]
  },
  {
   "cell_type": "code",
   "execution_count": 17,
   "metadata": {},
   "outputs": [],
   "source": [
    "from sklearn.model_selection import train_test_split\n",
    "\n",
    "# Divide the training data into training (80%) and validation (20%)\n",
    "df_train, df_valid = train_test_split(df_train, train_size=0.8, random_state=42)\n",
    "\n",
    "# Reset the index\n",
    "df_train, df_valid = df_train.reset_index(drop=True), df_valid.reset_index(drop=True)"
   ]
  },
  {
   "cell_type": "code",
   "execution_count": 18,
   "metadata": {},
   "outputs": [
    {
     "data": {
      "text/html": [
       "<div>\n",
       "<style scoped>\n",
       "    .dataframe tbody tr th:only-of-type {\n",
       "        vertical-align: middle;\n",
       "    }\n",
       "\n",
       "    .dataframe tbody tr th {\n",
       "        vertical-align: top;\n",
       "    }\n",
       "\n",
       "    .dataframe thead th {\n",
       "        text-align: right;\n",
       "    }\n",
       "</style>\n",
       "<table border=\"1\" class=\"dataframe\">\n",
       "  <thead>\n",
       "    <tr style=\"text-align: right;\">\n",
       "      <th></th>\n",
       "      <th>meter</th>\n",
       "      <th>meter_reading</th>\n",
       "      <th>building_id</th>\n",
       "      <th>primary_use</th>\n",
       "      <th>square_feet</th>\n",
       "      <th>year_built</th>\n",
       "      <th>floor_count</th>\n",
       "      <th>site_id</th>\n",
       "      <th>timestamp</th>\n",
       "      <th>air_temperature</th>\n",
       "      <th>cloud_coverage</th>\n",
       "      <th>dew_temperature</th>\n",
       "      <th>precip_depth_1_hr</th>\n",
       "      <th>sea_level_pressure</th>\n",
       "      <th>wind_direction</th>\n",
       "      <th>wind_speed</th>\n",
       "    </tr>\n",
       "  </thead>\n",
       "  <tbody>\n",
       "    <tr>\n",
       "      <th>0</th>\n",
       "      <td>0</td>\n",
       "      <td>64.3250</td>\n",
       "      <td>1403.0</td>\n",
       "      <td>Lodging/residential</td>\n",
       "      <td>78438.0</td>\n",
       "      <td>2004.0</td>\n",
       "      <td>NaN</td>\n",
       "      <td>15.0</td>\n",
       "      <td>2016-01-27 06:00:00.000</td>\n",
       "      <td>0.6</td>\n",
       "      <td>NaN</td>\n",
       "      <td>-4.4</td>\n",
       "      <td>NaN</td>\n",
       "      <td>1015.5</td>\n",
       "      <td>280.0</td>\n",
       "      <td>7.2</td>\n",
       "    </tr>\n",
       "    <tr>\n",
       "      <th>1</th>\n",
       "      <td>0</td>\n",
       "      <td>15.6250</td>\n",
       "      <td>152.0</td>\n",
       "      <td>Office</td>\n",
       "      <td>10301.0</td>\n",
       "      <td>1970.0</td>\n",
       "      <td>NaN</td>\n",
       "      <td>1.0</td>\n",
       "      <td>2016-06-29 11:00:00.000</td>\n",
       "      <td>15.3</td>\n",
       "      <td>NaN</td>\n",
       "      <td>12.2</td>\n",
       "      <td>NaN</td>\n",
       "      <td>1009.1</td>\n",
       "      <td>210.0</td>\n",
       "      <td>7.2</td>\n",
       "    </tr>\n",
       "    <tr>\n",
       "      <th>2</th>\n",
       "      <td>0</td>\n",
       "      <td>83.3333</td>\n",
       "      <td>850.0</td>\n",
       "      <td>Public services</td>\n",
       "      <td>28590.0</td>\n",
       "      <td>NaN</td>\n",
       "      <td>NaN</td>\n",
       "      <td>8.0</td>\n",
       "      <td>2016-04-09 17:00:00.000</td>\n",
       "      <td>21.7</td>\n",
       "      <td>2.0</td>\n",
       "      <td>1.1</td>\n",
       "      <td>0.0</td>\n",
       "      <td>1020.2</td>\n",
       "      <td>350.0</td>\n",
       "      <td>4.6</td>\n",
       "    </tr>\n",
       "    <tr>\n",
       "      <th>3</th>\n",
       "      <td>0</td>\n",
       "      <td>600.3800</td>\n",
       "      <td>79.0</td>\n",
       "      <td>Office</td>\n",
       "      <td>36240.0</td>\n",
       "      <td>2010.0</td>\n",
       "      <td>NaN</td>\n",
       "      <td>0.0</td>\n",
       "      <td>2016-11-30 13:00:00.000</td>\n",
       "      <td>20.6</td>\n",
       "      <td>2.0</td>\n",
       "      <td>20.0</td>\n",
       "      <td>0.0</td>\n",
       "      <td>1015.7</td>\n",
       "      <td>150.0</td>\n",
       "      <td>3.6</td>\n",
       "    </tr>\n",
       "    <tr>\n",
       "      <th>4</th>\n",
       "      <td>1</td>\n",
       "      <td>134.6130</td>\n",
       "      <td>1090.0</td>\n",
       "      <td>Office</td>\n",
       "      <td>305047.0</td>\n",
       "      <td>NaN</td>\n",
       "      <td>NaN</td>\n",
       "      <td>13.0</td>\n",
       "      <td>2016-05-24 07:00:00.000</td>\n",
       "      <td>19.4</td>\n",
       "      <td>NaN</td>\n",
       "      <td>16.1</td>\n",
       "      <td>-1.0</td>\n",
       "      <td>1008.5</td>\n",
       "      <td>190.0</td>\n",
       "      <td>2.6</td>\n",
       "    </tr>\n",
       "  </tbody>\n",
       "</table>\n",
       "</div>"
      ],
      "text/plain": [
       "  meter  meter_reading  building_id          primary_use  square_feet  \\\n",
       "0     0        64.3250       1403.0  Lodging/residential      78438.0   \n",
       "1     0        15.6250        152.0               Office      10301.0   \n",
       "2     0        83.3333        850.0      Public services      28590.0   \n",
       "3     0       600.3800         79.0               Office      36240.0   \n",
       "4     1       134.6130       1090.0               Office     305047.0   \n",
       "\n",
       "   year_built  floor_count  site_id                timestamp  air_temperature  \\\n",
       "0      2004.0          NaN     15.0  2016-01-27 06:00:00.000              0.6   \n",
       "1      1970.0          NaN      1.0  2016-06-29 11:00:00.000             15.3   \n",
       "2         NaN          NaN      8.0  2016-04-09 17:00:00.000             21.7   \n",
       "3      2010.0          NaN      0.0  2016-11-30 13:00:00.000             20.6   \n",
       "4         NaN          NaN     13.0  2016-05-24 07:00:00.000             19.4   \n",
       "\n",
       "   cloud_coverage  dew_temperature  precip_depth_1_hr  sea_level_pressure  \\\n",
       "0             NaN             -4.4                NaN              1015.5   \n",
       "1             NaN             12.2                NaN              1009.1   \n",
       "2             2.0              1.1                0.0              1020.2   \n",
       "3             2.0             20.0                0.0              1015.7   \n",
       "4             NaN             16.1               -1.0              1008.5   \n",
       "\n",
       "   wind_direction  wind_speed  \n",
       "0           280.0         7.2  \n",
       "1           210.0         7.2  \n",
       "2           350.0         4.6  \n",
       "3           150.0         3.6  \n",
       "4           190.0         2.6  "
      ]
     },
     "execution_count": 18,
     "metadata": {},
     "output_type": "execute_result"
    }
   ],
   "source": [
    "df_train.head() # print first 5 rows of df_train"
   ]
  },
  {
   "cell_type": "code",
   "execution_count": 19,
   "metadata": {},
   "outputs": [
    {
     "data": {
      "text/html": [
       "<div>\n",
       "<style scoped>\n",
       "    .dataframe tbody tr th:only-of-type {\n",
       "        vertical-align: middle;\n",
       "    }\n",
       "\n",
       "    .dataframe tbody tr th {\n",
       "        vertical-align: top;\n",
       "    }\n",
       "\n",
       "    .dataframe thead th {\n",
       "        text-align: right;\n",
       "    }\n",
       "</style>\n",
       "<table border=\"1\" class=\"dataframe\">\n",
       "  <thead>\n",
       "    <tr style=\"text-align: right;\">\n",
       "      <th></th>\n",
       "      <th># rows</th>\n",
       "      <th># columns</th>\n",
       "    </tr>\n",
       "  </thead>\n",
       "  <tbody>\n",
       "    <tr>\n",
       "      <th>0</th>\n",
       "      <td>15895990</td>\n",
       "      <td>16</td>\n",
       "    </tr>\n",
       "  </tbody>\n",
       "</table>\n",
       "</div>"
      ],
      "text/plain": [
       "     # rows  # columns\n",
       "0  15895990         16"
      ]
     },
     "execution_count": 19,
     "metadata": {},
     "output_type": "execute_result"
    }
   ],
   "source": [
    "# Print the dimension of df_train\n",
    "pd.DataFrame([[df_train.shape[0], df_train.shape[1]]], columns=['# rows', '# columns'])"
   ]
  },
  {
   "cell_type": "code",
   "execution_count": 20,
   "metadata": {},
   "outputs": [
    {
     "data": {
      "text/html": [
       "<div>\n",
       "<style scoped>\n",
       "    .dataframe tbody tr th:only-of-type {\n",
       "        vertical-align: middle;\n",
       "    }\n",
       "\n",
       "    .dataframe tbody tr th {\n",
       "        vertical-align: top;\n",
       "    }\n",
       "\n",
       "    .dataframe thead th {\n",
       "        text-align: right;\n",
       "    }\n",
       "</style>\n",
       "<table border=\"1\" class=\"dataframe\">\n",
       "  <thead>\n",
       "    <tr style=\"text-align: right;\">\n",
       "      <th></th>\n",
       "      <th>meter</th>\n",
       "      <th>meter_reading</th>\n",
       "      <th>building_id</th>\n",
       "      <th>primary_use</th>\n",
       "      <th>square_feet</th>\n",
       "      <th>year_built</th>\n",
       "      <th>floor_count</th>\n",
       "      <th>site_id</th>\n",
       "      <th>timestamp</th>\n",
       "      <th>air_temperature</th>\n",
       "      <th>cloud_coverage</th>\n",
       "      <th>dew_temperature</th>\n",
       "      <th>precip_depth_1_hr</th>\n",
       "      <th>sea_level_pressure</th>\n",
       "      <th>wind_direction</th>\n",
       "      <th>wind_speed</th>\n",
       "    </tr>\n",
       "  </thead>\n",
       "  <tbody>\n",
       "    <tr>\n",
       "      <th>0</th>\n",
       "      <td>0</td>\n",
       "      <td>692.220</td>\n",
       "      <td>376.0</td>\n",
       "      <td>Office</td>\n",
       "      <td>585955.0</td>\n",
       "      <td>1942.0</td>\n",
       "      <td>NaN</td>\n",
       "      <td>3.0</td>\n",
       "      <td>2016-11-04 13:00:00.000</td>\n",
       "      <td>13.9</td>\n",
       "      <td>2.0</td>\n",
       "      <td>7.2</td>\n",
       "      <td>0.0</td>\n",
       "      <td>1022.8</td>\n",
       "      <td>350.0</td>\n",
       "      <td>6.2</td>\n",
       "    </tr>\n",
       "    <tr>\n",
       "      <th>1</th>\n",
       "      <td>0</td>\n",
       "      <td>475.000</td>\n",
       "      <td>883.0</td>\n",
       "      <td>Education</td>\n",
       "      <td>399331.0</td>\n",
       "      <td>NaN</td>\n",
       "      <td>NaN</td>\n",
       "      <td>9.0</td>\n",
       "      <td>2016-07-09 20:00:00.000</td>\n",
       "      <td>36.7</td>\n",
       "      <td>2.0</td>\n",
       "      <td>22.2</td>\n",
       "      <td>0.0</td>\n",
       "      <td>1014.8</td>\n",
       "      <td>NaN</td>\n",
       "      <td>2.6</td>\n",
       "    </tr>\n",
       "    <tr>\n",
       "      <th>2</th>\n",
       "      <td>1</td>\n",
       "      <td>183.404</td>\n",
       "      <td>237.0</td>\n",
       "      <td>Public services</td>\n",
       "      <td>101262.0</td>\n",
       "      <td>1982.0</td>\n",
       "      <td>NaN</td>\n",
       "      <td>2.0</td>\n",
       "      <td>2016-09-04 05:00:00.000</td>\n",
       "      <td>33.3</td>\n",
       "      <td>0.0</td>\n",
       "      <td>2.8</td>\n",
       "      <td>0.0</td>\n",
       "      <td>1002.4</td>\n",
       "      <td>240.0</td>\n",
       "      <td>4.1</td>\n",
       "    </tr>\n",
       "    <tr>\n",
       "      <th>3</th>\n",
       "      <td>1</td>\n",
       "      <td>0.000</td>\n",
       "      <td>176.0</td>\n",
       "      <td>Education</td>\n",
       "      <td>62238.0</td>\n",
       "      <td>1970.0</td>\n",
       "      <td>NaN</td>\n",
       "      <td>2.0</td>\n",
       "      <td>2016-02-20 23:00:00.000</td>\n",
       "      <td>29.4</td>\n",
       "      <td>4.0</td>\n",
       "      <td>-5.6</td>\n",
       "      <td>0.0</td>\n",
       "      <td>1012.1</td>\n",
       "      <td>290.0</td>\n",
       "      <td>4.1</td>\n",
       "    </tr>\n",
       "    <tr>\n",
       "      <th>4</th>\n",
       "      <td>1</td>\n",
       "      <td>171.597</td>\n",
       "      <td>755.0</td>\n",
       "      <td>Office</td>\n",
       "      <td>42129.0</td>\n",
       "      <td>NaN</td>\n",
       "      <td>NaN</td>\n",
       "      <td>6.0</td>\n",
       "      <td>2016-08-18 14:00:00.000</td>\n",
       "      <td>27.8</td>\n",
       "      <td>0.0</td>\n",
       "      <td>21.7</td>\n",
       "      <td>0.0</td>\n",
       "      <td>1018.2</td>\n",
       "      <td>NaN</td>\n",
       "      <td>2.1</td>\n",
       "    </tr>\n",
       "  </tbody>\n",
       "</table>\n",
       "</div>"
      ],
      "text/plain": [
       "  meter  meter_reading  building_id      primary_use  square_feet  year_built  \\\n",
       "0     0        692.220        376.0           Office     585955.0      1942.0   \n",
       "1     0        475.000        883.0        Education     399331.0         NaN   \n",
       "2     1        183.404        237.0  Public services     101262.0      1982.0   \n",
       "3     1          0.000        176.0        Education      62238.0      1970.0   \n",
       "4     1        171.597        755.0           Office      42129.0         NaN   \n",
       "\n",
       "   floor_count  site_id                timestamp  air_temperature  \\\n",
       "0          NaN      3.0  2016-11-04 13:00:00.000             13.9   \n",
       "1          NaN      9.0  2016-07-09 20:00:00.000             36.7   \n",
       "2          NaN      2.0  2016-09-04 05:00:00.000             33.3   \n",
       "3          NaN      2.0  2016-02-20 23:00:00.000             29.4   \n",
       "4          NaN      6.0  2016-08-18 14:00:00.000             27.8   \n",
       "\n",
       "   cloud_coverage  dew_temperature  precip_depth_1_hr  sea_level_pressure  \\\n",
       "0             2.0              7.2                0.0              1022.8   \n",
       "1             2.0             22.2                0.0              1014.8   \n",
       "2             0.0              2.8                0.0              1002.4   \n",
       "3             4.0             -5.6                0.0              1012.1   \n",
       "4             0.0             21.7                0.0              1018.2   \n",
       "\n",
       "   wind_direction  wind_speed  \n",
       "0           350.0         6.2  \n",
       "1             NaN         2.6  \n",
       "2           240.0         4.1  \n",
       "3           290.0         4.1  \n",
       "4             NaN         2.1  "
      ]
     },
     "execution_count": 20,
     "metadata": {},
     "output_type": "execute_result"
    }
   ],
   "source": [
    "df_valid.head() # print first 5 rows of df_valid"
   ]
  },
  {
   "cell_type": "code",
   "execution_count": 21,
   "metadata": {},
   "outputs": [
    {
     "data": {
      "text/html": [
       "<div>\n",
       "<style scoped>\n",
       "    .dataframe tbody tr th:only-of-type {\n",
       "        vertical-align: middle;\n",
       "    }\n",
       "\n",
       "    .dataframe tbody tr th {\n",
       "        vertical-align: top;\n",
       "    }\n",
       "\n",
       "    .dataframe thead th {\n",
       "        text-align: right;\n",
       "    }\n",
       "</style>\n",
       "<table border=\"1\" class=\"dataframe\">\n",
       "  <thead>\n",
       "    <tr style=\"text-align: right;\">\n",
       "      <th></th>\n",
       "      <th># rows</th>\n",
       "      <th># columns</th>\n",
       "    </tr>\n",
       "  </thead>\n",
       "  <tbody>\n",
       "    <tr>\n",
       "      <th>0</th>\n",
       "      <td>3973998</td>\n",
       "      <td>16</td>\n",
       "    </tr>\n",
       "  </tbody>\n",
       "</table>\n",
       "</div>"
      ],
      "text/plain": [
       "    # rows  # columns\n",
       "0  3973998         16"
      ]
     },
     "execution_count": 21,
     "metadata": {},
     "output_type": "execute_result"
    }
   ],
   "source": [
    "# Print the dimension of df_valid\n",
    "pd.DataFrame([[df_valid.shape[0], df_valid.shape[1]]], columns=['# rows', '# columns'])"
   ]
  },
  {
   "cell_type": "markdown",
   "metadata": {},
   "source": [
    "## Handling date time variables"
   ]
  },
  {
   "cell_type": "markdown",
   "metadata": {},
   "source": [
    "The \"timestamp\" column is recorded as object type combining year, month, day and hour. We need to separate the column into 4 specific columns including year, month, day and hour."
   ]
  },
  {
   "cell_type": "code",
   "execution_count": 22,
   "metadata": {},
   "outputs": [],
   "source": [
    "import datetime\n",
    "\n",
    "def datetime_transformer(df, datetime_vars):\n",
    "    \"\"\"\n",
    "    The datetime transformer\n",
    "\n",
    "    Parameters\n",
    "    ----------\n",
    "    df : dataframe\n",
    "    datetime_vars : the datetime variables\n",
    "    \n",
    "    Returns\n",
    "    ----------\n",
    "    The dataframe where datetime_vars are transformed into the following 3 datetime types:\n",
    "    year, month, day\n",
    "    \n",
    "    \"\"\"\n",
    "    # The dictionary with key as datetime type and value as datetime type operator\n",
    "    dict_ = {'year'   : lambda x : x.dt.year,\n",
    "             'month'  : lambda x : x.dt.month,\n",
    "             'day'    : lambda x : x.dt.day,\n",
    "             'hour'   : lambda x : x.dt.hour}\n",
    "    \n",
    "    # make a copy of df that will contain 3 datetime variables\n",
    "    df_datetime = df.copy(deep=True)\n",
    "    \n",
    "    # for each column that is datetime variable\n",
    "    for var in datetime_vars:\n",
    "        # cast the integer data to datetime \n",
    "        df_datetime[var] = df_datetime[var].apply(lambda x: pd.to_datetime(str(x), format='%Y-%m-%d %H:%M:%S.%f'))\n",
    "        \n",
    "        \n",
    "        # for each item (datetime_type and datetime_type_operator) in dict_\n",
    "        for datetime_type, datetime_type_operator in dict_.items():\n",
    "            # add a new variable to df_datetime where:\n",
    "            # the variable's name is var + '_' + datetime_type\n",
    "            # the variable's values are the ones obtained by datetime_type_operator\n",
    "            df_datetime[var + '_' + datetime_type] = datetime_type_operator(df_datetime[var])\n",
    "            \n",
    "    # remove datetime_vars from df_datetime\n",
    "    df_datetime = df_datetime.drop(columns=datetime_vars)\n",
    "                \n",
    "    return df_datetime"
   ]
  },
  {
   "cell_type": "code",
   "execution_count": 23,
   "metadata": {},
   "outputs": [
    {
     "data": {
      "text/html": [
       "<div>\n",
       "<style scoped>\n",
       "    .dataframe tbody tr th:only-of-type {\n",
       "        vertical-align: middle;\n",
       "    }\n",
       "\n",
       "    .dataframe tbody tr th {\n",
       "        vertical-align: top;\n",
       "    }\n",
       "\n",
       "    .dataframe thead th {\n",
       "        text-align: right;\n",
       "    }\n",
       "</style>\n",
       "<table border=\"1\" class=\"dataframe\">\n",
       "  <thead>\n",
       "    <tr style=\"text-align: right;\">\n",
       "      <th></th>\n",
       "      <th>meter</th>\n",
       "      <th>meter_reading</th>\n",
       "      <th>building_id</th>\n",
       "      <th>primary_use</th>\n",
       "      <th>square_feet</th>\n",
       "      <th>year_built</th>\n",
       "      <th>floor_count</th>\n",
       "      <th>site_id</th>\n",
       "      <th>air_temperature</th>\n",
       "      <th>cloud_coverage</th>\n",
       "      <th>dew_temperature</th>\n",
       "      <th>precip_depth_1_hr</th>\n",
       "      <th>sea_level_pressure</th>\n",
       "      <th>wind_direction</th>\n",
       "      <th>wind_speed</th>\n",
       "      <th>timestamp_year</th>\n",
       "      <th>timestamp_month</th>\n",
       "      <th>timestamp_day</th>\n",
       "      <th>timestamp_hour</th>\n",
       "    </tr>\n",
       "  </thead>\n",
       "  <tbody>\n",
       "    <tr>\n",
       "      <th>0</th>\n",
       "      <td>0</td>\n",
       "      <td>64.3250</td>\n",
       "      <td>1403.0</td>\n",
       "      <td>Lodging/residential</td>\n",
       "      <td>78438.0</td>\n",
       "      <td>2004.0</td>\n",
       "      <td>NaN</td>\n",
       "      <td>15.0</td>\n",
       "      <td>0.6</td>\n",
       "      <td>NaN</td>\n",
       "      <td>-4.4</td>\n",
       "      <td>NaN</td>\n",
       "      <td>1015.5</td>\n",
       "      <td>280.0</td>\n",
       "      <td>7.2</td>\n",
       "      <td>2016.0</td>\n",
       "      <td>1.0</td>\n",
       "      <td>27.0</td>\n",
       "      <td>6.0</td>\n",
       "    </tr>\n",
       "    <tr>\n",
       "      <th>1</th>\n",
       "      <td>0</td>\n",
       "      <td>15.6250</td>\n",
       "      <td>152.0</td>\n",
       "      <td>Office</td>\n",
       "      <td>10301.0</td>\n",
       "      <td>1970.0</td>\n",
       "      <td>NaN</td>\n",
       "      <td>1.0</td>\n",
       "      <td>15.3</td>\n",
       "      <td>NaN</td>\n",
       "      <td>12.2</td>\n",
       "      <td>NaN</td>\n",
       "      <td>1009.1</td>\n",
       "      <td>210.0</td>\n",
       "      <td>7.2</td>\n",
       "      <td>2016.0</td>\n",
       "      <td>6.0</td>\n",
       "      <td>29.0</td>\n",
       "      <td>11.0</td>\n",
       "    </tr>\n",
       "    <tr>\n",
       "      <th>2</th>\n",
       "      <td>0</td>\n",
       "      <td>83.3333</td>\n",
       "      <td>850.0</td>\n",
       "      <td>Public services</td>\n",
       "      <td>28590.0</td>\n",
       "      <td>NaN</td>\n",
       "      <td>NaN</td>\n",
       "      <td>8.0</td>\n",
       "      <td>21.7</td>\n",
       "      <td>2.0</td>\n",
       "      <td>1.1</td>\n",
       "      <td>0.0</td>\n",
       "      <td>1020.2</td>\n",
       "      <td>350.0</td>\n",
       "      <td>4.6</td>\n",
       "      <td>2016.0</td>\n",
       "      <td>4.0</td>\n",
       "      <td>9.0</td>\n",
       "      <td>17.0</td>\n",
       "    </tr>\n",
       "    <tr>\n",
       "      <th>3</th>\n",
       "      <td>0</td>\n",
       "      <td>600.3800</td>\n",
       "      <td>79.0</td>\n",
       "      <td>Office</td>\n",
       "      <td>36240.0</td>\n",
       "      <td>2010.0</td>\n",
       "      <td>NaN</td>\n",
       "      <td>0.0</td>\n",
       "      <td>20.6</td>\n",
       "      <td>2.0</td>\n",
       "      <td>20.0</td>\n",
       "      <td>0.0</td>\n",
       "      <td>1015.7</td>\n",
       "      <td>150.0</td>\n",
       "      <td>3.6</td>\n",
       "      <td>2016.0</td>\n",
       "      <td>11.0</td>\n",
       "      <td>30.0</td>\n",
       "      <td>13.0</td>\n",
       "    </tr>\n",
       "    <tr>\n",
       "      <th>4</th>\n",
       "      <td>1</td>\n",
       "      <td>134.6130</td>\n",
       "      <td>1090.0</td>\n",
       "      <td>Office</td>\n",
       "      <td>305047.0</td>\n",
       "      <td>NaN</td>\n",
       "      <td>NaN</td>\n",
       "      <td>13.0</td>\n",
       "      <td>19.4</td>\n",
       "      <td>NaN</td>\n",
       "      <td>16.1</td>\n",
       "      <td>-1.0</td>\n",
       "      <td>1008.5</td>\n",
       "      <td>190.0</td>\n",
       "      <td>2.6</td>\n",
       "      <td>2016.0</td>\n",
       "      <td>5.0</td>\n",
       "      <td>24.0</td>\n",
       "      <td>7.0</td>\n",
       "    </tr>\n",
       "  </tbody>\n",
       "</table>\n",
       "</div>"
      ],
      "text/plain": [
       "  meter  meter_reading  building_id          primary_use  square_feet  \\\n",
       "0     0        64.3250       1403.0  Lodging/residential      78438.0   \n",
       "1     0        15.6250        152.0               Office      10301.0   \n",
       "2     0        83.3333        850.0      Public services      28590.0   \n",
       "3     0       600.3800         79.0               Office      36240.0   \n",
       "4     1       134.6130       1090.0               Office     305047.0   \n",
       "\n",
       "   year_built  floor_count  site_id  air_temperature  cloud_coverage  \\\n",
       "0      2004.0          NaN     15.0              0.6             NaN   \n",
       "1      1970.0          NaN      1.0             15.3             NaN   \n",
       "2         NaN          NaN      8.0             21.7             2.0   \n",
       "3      2010.0          NaN      0.0             20.6             2.0   \n",
       "4         NaN          NaN     13.0             19.4             NaN   \n",
       "\n",
       "   dew_temperature  precip_depth_1_hr  sea_level_pressure  wind_direction  \\\n",
       "0             -4.4                NaN              1015.5           280.0   \n",
       "1             12.2                NaN              1009.1           210.0   \n",
       "2              1.1                0.0              1020.2           350.0   \n",
       "3             20.0                0.0              1015.7           150.0   \n",
       "4             16.1               -1.0              1008.5           190.0   \n",
       "\n",
       "   wind_speed  timestamp_year  timestamp_month  timestamp_day  timestamp_hour  \n",
       "0         7.2          2016.0              1.0           27.0             6.0  \n",
       "1         7.2          2016.0              6.0           29.0            11.0  \n",
       "2         4.6          2016.0              4.0            9.0            17.0  \n",
       "3         3.6          2016.0             11.0           30.0            13.0  \n",
       "4         2.6          2016.0              5.0           24.0             7.0  "
      ]
     },
     "execution_count": 23,
     "metadata": {},
     "output_type": "execute_result"
    }
   ],
   "source": [
    "# call datetime_transformer on df_train\n",
    "df_train = datetime_transformer(df_train, ['timestamp'])\n",
    "\n",
    "# print the first 5 rows of df_train\n",
    "df_train.head()"
   ]
  },
  {
   "cell_type": "code",
   "execution_count": 24,
   "metadata": {},
   "outputs": [
    {
     "data": {
      "text/html": [
       "<div>\n",
       "<style scoped>\n",
       "    .dataframe tbody tr th:only-of-type {\n",
       "        vertical-align: middle;\n",
       "    }\n",
       "\n",
       "    .dataframe tbody tr th {\n",
       "        vertical-align: top;\n",
       "    }\n",
       "\n",
       "    .dataframe thead th {\n",
       "        text-align: right;\n",
       "    }\n",
       "</style>\n",
       "<table border=\"1\" class=\"dataframe\">\n",
       "  <thead>\n",
       "    <tr style=\"text-align: right;\">\n",
       "      <th></th>\n",
       "      <th>meter</th>\n",
       "      <th>meter_reading</th>\n",
       "      <th>building_id</th>\n",
       "      <th>primary_use</th>\n",
       "      <th>square_feet</th>\n",
       "      <th>year_built</th>\n",
       "      <th>floor_count</th>\n",
       "      <th>site_id</th>\n",
       "      <th>air_temperature</th>\n",
       "      <th>cloud_coverage</th>\n",
       "      <th>dew_temperature</th>\n",
       "      <th>precip_depth_1_hr</th>\n",
       "      <th>sea_level_pressure</th>\n",
       "      <th>wind_direction</th>\n",
       "      <th>wind_speed</th>\n",
       "      <th>timestamp_year</th>\n",
       "      <th>timestamp_month</th>\n",
       "      <th>timestamp_day</th>\n",
       "      <th>timestamp_hour</th>\n",
       "    </tr>\n",
       "  </thead>\n",
       "  <tbody>\n",
       "    <tr>\n",
       "      <th>0</th>\n",
       "      <td>0</td>\n",
       "      <td>692.220</td>\n",
       "      <td>376.0</td>\n",
       "      <td>Office</td>\n",
       "      <td>585955.0</td>\n",
       "      <td>1942.0</td>\n",
       "      <td>NaN</td>\n",
       "      <td>3.0</td>\n",
       "      <td>13.9</td>\n",
       "      <td>2.0</td>\n",
       "      <td>7.2</td>\n",
       "      <td>0.0</td>\n",
       "      <td>1022.8</td>\n",
       "      <td>350.0</td>\n",
       "      <td>6.2</td>\n",
       "      <td>2016.0</td>\n",
       "      <td>11.0</td>\n",
       "      <td>4.0</td>\n",
       "      <td>13.0</td>\n",
       "    </tr>\n",
       "    <tr>\n",
       "      <th>1</th>\n",
       "      <td>0</td>\n",
       "      <td>475.000</td>\n",
       "      <td>883.0</td>\n",
       "      <td>Education</td>\n",
       "      <td>399331.0</td>\n",
       "      <td>NaN</td>\n",
       "      <td>NaN</td>\n",
       "      <td>9.0</td>\n",
       "      <td>36.7</td>\n",
       "      <td>2.0</td>\n",
       "      <td>22.2</td>\n",
       "      <td>0.0</td>\n",
       "      <td>1014.8</td>\n",
       "      <td>NaN</td>\n",
       "      <td>2.6</td>\n",
       "      <td>2016.0</td>\n",
       "      <td>7.0</td>\n",
       "      <td>9.0</td>\n",
       "      <td>20.0</td>\n",
       "    </tr>\n",
       "    <tr>\n",
       "      <th>2</th>\n",
       "      <td>1</td>\n",
       "      <td>183.404</td>\n",
       "      <td>237.0</td>\n",
       "      <td>Public services</td>\n",
       "      <td>101262.0</td>\n",
       "      <td>1982.0</td>\n",
       "      <td>NaN</td>\n",
       "      <td>2.0</td>\n",
       "      <td>33.3</td>\n",
       "      <td>0.0</td>\n",
       "      <td>2.8</td>\n",
       "      <td>0.0</td>\n",
       "      <td>1002.4</td>\n",
       "      <td>240.0</td>\n",
       "      <td>4.1</td>\n",
       "      <td>2016.0</td>\n",
       "      <td>9.0</td>\n",
       "      <td>4.0</td>\n",
       "      <td>5.0</td>\n",
       "    </tr>\n",
       "    <tr>\n",
       "      <th>3</th>\n",
       "      <td>1</td>\n",
       "      <td>0.000</td>\n",
       "      <td>176.0</td>\n",
       "      <td>Education</td>\n",
       "      <td>62238.0</td>\n",
       "      <td>1970.0</td>\n",
       "      <td>NaN</td>\n",
       "      <td>2.0</td>\n",
       "      <td>29.4</td>\n",
       "      <td>4.0</td>\n",
       "      <td>-5.6</td>\n",
       "      <td>0.0</td>\n",
       "      <td>1012.1</td>\n",
       "      <td>290.0</td>\n",
       "      <td>4.1</td>\n",
       "      <td>2016.0</td>\n",
       "      <td>2.0</td>\n",
       "      <td>20.0</td>\n",
       "      <td>23.0</td>\n",
       "    </tr>\n",
       "    <tr>\n",
       "      <th>4</th>\n",
       "      <td>1</td>\n",
       "      <td>171.597</td>\n",
       "      <td>755.0</td>\n",
       "      <td>Office</td>\n",
       "      <td>42129.0</td>\n",
       "      <td>NaN</td>\n",
       "      <td>NaN</td>\n",
       "      <td>6.0</td>\n",
       "      <td>27.8</td>\n",
       "      <td>0.0</td>\n",
       "      <td>21.7</td>\n",
       "      <td>0.0</td>\n",
       "      <td>1018.2</td>\n",
       "      <td>NaN</td>\n",
       "      <td>2.1</td>\n",
       "      <td>2016.0</td>\n",
       "      <td>8.0</td>\n",
       "      <td>18.0</td>\n",
       "      <td>14.0</td>\n",
       "    </tr>\n",
       "  </tbody>\n",
       "</table>\n",
       "</div>"
      ],
      "text/plain": [
       "  meter  meter_reading  building_id      primary_use  square_feet  year_built  \\\n",
       "0     0        692.220        376.0           Office     585955.0      1942.0   \n",
       "1     0        475.000        883.0        Education     399331.0         NaN   \n",
       "2     1        183.404        237.0  Public services     101262.0      1982.0   \n",
       "3     1          0.000        176.0        Education      62238.0      1970.0   \n",
       "4     1        171.597        755.0           Office      42129.0         NaN   \n",
       "\n",
       "   floor_count  site_id  air_temperature  cloud_coverage  dew_temperature  \\\n",
       "0          NaN      3.0             13.9             2.0              7.2   \n",
       "1          NaN      9.0             36.7             2.0             22.2   \n",
       "2          NaN      2.0             33.3             0.0              2.8   \n",
       "3          NaN      2.0             29.4             4.0             -5.6   \n",
       "4          NaN      6.0             27.8             0.0             21.7   \n",
       "\n",
       "   precip_depth_1_hr  sea_level_pressure  wind_direction  wind_speed  \\\n",
       "0                0.0              1022.8           350.0         6.2   \n",
       "1                0.0              1014.8             NaN         2.6   \n",
       "2                0.0              1002.4           240.0         4.1   \n",
       "3                0.0              1012.1           290.0         4.1   \n",
       "4                0.0              1018.2             NaN         2.1   \n",
       "\n",
       "   timestamp_year  timestamp_month  timestamp_day  timestamp_hour  \n",
       "0          2016.0             11.0            4.0            13.0  \n",
       "1          2016.0              7.0            9.0            20.0  \n",
       "2          2016.0              9.0            4.0             5.0  \n",
       "3          2016.0              2.0           20.0            23.0  \n",
       "4          2016.0              8.0           18.0            14.0  "
      ]
     },
     "execution_count": 24,
     "metadata": {},
     "output_type": "execute_result"
    }
   ],
   "source": [
    "# call datetime_transformer on df_valid\n",
    "df_valid = datetime_transformer(df_valid, ['timestamp'])\n",
    "\n",
    "# print the first 5 rows of df_valid\n",
    "df_valid.head()"
   ]
  },
  {
   "cell_type": "markdown",
   "metadata": {},
   "source": [
    "## Handling missing data"
   ]
  },
  {
   "cell_type": "markdown",
   "metadata": {},
   "source": [
    "### Identifying missing values"
   ]
  },
  {
   "cell_type": "code",
   "execution_count": 25,
   "metadata": {},
   "outputs": [],
   "source": [
    "def nan_checker(df):\n",
    "    \"\"\"\n",
    "    The NaN checker\n",
    "\n",
    "    Parameters\n",
    "    ----------\n",
    "    df : dataframe\n",
    "    \n",
    "    Returns\n",
    "    ----------\n",
    "    The dataframe of variables with NaN, their proportion of NaN and dtype\n",
    "    \"\"\"\n",
    "    \n",
    "    # get the variables with NaN, their proportion of NaN and dtype\n",
    "    df_nan = pd.DataFrame([[var, df[var].isna().sum() / df.shape[0], df[var].dtype]\n",
    "                           for var in df.columns if df[var].isna().sum() > 0],\n",
    "                          columns=['var', 'proportion', 'dtype'])\n",
    "    \n",
    "    # sort df_nan in accending order of the proportion of NaN\n",
    "    df_nan = df_nan.sort_values(by='proportion', ascending=False)\n",
    "    \n",
    "    return df_nan"
   ]
  },
  {
   "cell_type": "code",
   "execution_count": 26,
   "metadata": {},
   "outputs": [],
   "source": [
    "# combine df_train, df_valid and df_test\n",
    "df = pd.concat([df_train, df_valid], sort=False)"
   ]
  },
  {
   "cell_type": "code",
   "execution_count": 27,
   "metadata": {},
   "outputs": [
    {
     "data": {
      "text/html": [
       "<div>\n",
       "<style scoped>\n",
       "    .dataframe tbody tr th:only-of-type {\n",
       "        vertical-align: middle;\n",
       "    }\n",
       "\n",
       "    .dataframe tbody tr th {\n",
       "        vertical-align: top;\n",
       "    }\n",
       "\n",
       "    .dataframe thead th {\n",
       "        text-align: right;\n",
       "    }\n",
       "</style>\n",
       "<table border=\"1\" class=\"dataframe\">\n",
       "  <thead>\n",
       "    <tr style=\"text-align: right;\">\n",
       "      <th></th>\n",
       "      <th>var</th>\n",
       "      <th>proportion</th>\n",
       "      <th>dtype</th>\n",
       "    </tr>\n",
       "  </thead>\n",
       "  <tbody>\n",
       "    <tr>\n",
       "      <th>0</th>\n",
       "      <td>floor_count</td>\n",
       "      <td>1.000000</td>\n",
       "      <td>float64</td>\n",
       "    </tr>\n",
       "    <tr>\n",
       "      <th>1</th>\n",
       "      <td>year_built</td>\n",
       "      <td>0.610350</td>\n",
       "      <td>float64</td>\n",
       "    </tr>\n",
       "    <tr>\n",
       "      <th>2</th>\n",
       "      <td>cloud_coverage</td>\n",
       "      <td>0.436067</td>\n",
       "      <td>float64</td>\n",
       "    </tr>\n",
       "    <tr>\n",
       "      <th>3</th>\n",
       "      <td>precip_depth_1_hr</td>\n",
       "      <td>0.188672</td>\n",
       "      <td>float64</td>\n",
       "    </tr>\n",
       "    <tr>\n",
       "      <th>4</th>\n",
       "      <td>wind_direction</td>\n",
       "      <td>0.072537</td>\n",
       "      <td>float64</td>\n",
       "    </tr>\n",
       "    <tr>\n",
       "      <th>5</th>\n",
       "      <td>sea_level_pressure</td>\n",
       "      <td>0.061691</td>\n",
       "      <td>float64</td>\n",
       "    </tr>\n",
       "    <tr>\n",
       "      <th>6</th>\n",
       "      <td>wind_speed</td>\n",
       "      <td>0.007231</td>\n",
       "      <td>float64</td>\n",
       "    </tr>\n",
       "    <tr>\n",
       "      <th>7</th>\n",
       "      <td>square_feet</td>\n",
       "      <td>0.005418</td>\n",
       "      <td>float64</td>\n",
       "    </tr>\n",
       "    <tr>\n",
       "      <th>8</th>\n",
       "      <td>dew_temperature</td>\n",
       "      <td>0.005024</td>\n",
       "      <td>float64</td>\n",
       "    </tr>\n",
       "    <tr>\n",
       "      <th>9</th>\n",
       "      <td>air_temperature</td>\n",
       "      <td>0.004849</td>\n",
       "      <td>float64</td>\n",
       "    </tr>\n",
       "    <tr>\n",
       "      <th>10</th>\n",
       "      <td>site_id</td>\n",
       "      <td>0.004554</td>\n",
       "      <td>float64</td>\n",
       "    </tr>\n",
       "    <tr>\n",
       "      <th>11</th>\n",
       "      <td>timestamp_year</td>\n",
       "      <td>0.004554</td>\n",
       "      <td>float64</td>\n",
       "    </tr>\n",
       "    <tr>\n",
       "      <th>12</th>\n",
       "      <td>timestamp_month</td>\n",
       "      <td>0.004554</td>\n",
       "      <td>float64</td>\n",
       "    </tr>\n",
       "    <tr>\n",
       "      <th>13</th>\n",
       "      <td>timestamp_day</td>\n",
       "      <td>0.004554</td>\n",
       "      <td>float64</td>\n",
       "    </tr>\n",
       "    <tr>\n",
       "      <th>14</th>\n",
       "      <td>timestamp_hour</td>\n",
       "      <td>0.004554</td>\n",
       "      <td>float64</td>\n",
       "    </tr>\n",
       "  </tbody>\n",
       "</table>\n",
       "</div>"
      ],
      "text/plain": [
       "                   var  proportion    dtype\n",
       "0          floor_count    1.000000  float64\n",
       "1           year_built    0.610350  float64\n",
       "2       cloud_coverage    0.436067  float64\n",
       "3    precip_depth_1_hr    0.188672  float64\n",
       "4       wind_direction    0.072537  float64\n",
       "5   sea_level_pressure    0.061691  float64\n",
       "6           wind_speed    0.007231  float64\n",
       "7          square_feet    0.005418  float64\n",
       "8      dew_temperature    0.005024  float64\n",
       "9      air_temperature    0.004849  float64\n",
       "10             site_id    0.004554  float64\n",
       "11      timestamp_year    0.004554  float64\n",
       "12     timestamp_month    0.004554  float64\n",
       "13       timestamp_day    0.004554  float64\n",
       "14      timestamp_hour    0.004554  float64"
      ]
     },
     "execution_count": 27,
     "metadata": {},
     "output_type": "execute_result"
    }
   ],
   "source": [
    "# call nan_checker on df\n",
    "df_nan = nan_checker(df)\n",
    "\n",
    "# print df_nan\n",
    "df_nan.reset_index(drop=True)"
   ]
  },
  {
   "cell_type": "markdown",
   "metadata": {},
   "source": [
    "- According to the table, the floor_count has many missing values so we can remove this column. Moreover, the year_built also has high proportion of missing values, and since it is impossible to impute data for this variable we will also remove the column from dataframe.\n",
    "- We remove missing values in any float64 columns with the proportion of missing data smaller than 5%.\n",
    "- For the other missing values, we will use different techniques to impute them."
   ]
  },
  {
   "cell_type": "markdown",
   "metadata": {},
   "source": [
    "### Dropping columns with high proportion of missing values"
   ]
  },
  {
   "cell_type": "code",
   "execution_count": 28,
   "metadata": {},
   "outputs": [],
   "source": [
    "# dropping columns in training set\n",
    "df_train = df_train.drop(columns = [\"floor_count\",\"year_built\"])\n",
    "# dropping columns in validation set\n",
    "df_valid = df_valid.drop(columns = [\"floor_count\",\"year_built\"])"
   ]
  },
  {
   "cell_type": "code",
   "execution_count": 29,
   "metadata": {},
   "outputs": [
    {
     "data": {
      "text/html": [
       "<div>\n",
       "<style scoped>\n",
       "    .dataframe tbody tr th:only-of-type {\n",
       "        vertical-align: middle;\n",
       "    }\n",
       "\n",
       "    .dataframe tbody tr th {\n",
       "        vertical-align: top;\n",
       "    }\n",
       "\n",
       "    .dataframe thead th {\n",
       "        text-align: right;\n",
       "    }\n",
       "</style>\n",
       "<table border=\"1\" class=\"dataframe\">\n",
       "  <thead>\n",
       "    <tr style=\"text-align: right;\">\n",
       "      <th></th>\n",
       "      <th>meter</th>\n",
       "      <th>meter_reading</th>\n",
       "      <th>building_id</th>\n",
       "      <th>primary_use</th>\n",
       "      <th>square_feet</th>\n",
       "      <th>site_id</th>\n",
       "      <th>air_temperature</th>\n",
       "      <th>cloud_coverage</th>\n",
       "      <th>dew_temperature</th>\n",
       "      <th>precip_depth_1_hr</th>\n",
       "      <th>sea_level_pressure</th>\n",
       "      <th>wind_direction</th>\n",
       "      <th>wind_speed</th>\n",
       "      <th>timestamp_year</th>\n",
       "      <th>timestamp_month</th>\n",
       "      <th>timestamp_day</th>\n",
       "      <th>timestamp_hour</th>\n",
       "    </tr>\n",
       "  </thead>\n",
       "  <tbody>\n",
       "    <tr>\n",
       "      <th>0</th>\n",
       "      <td>0</td>\n",
       "      <td>64.3250</td>\n",
       "      <td>1403.0</td>\n",
       "      <td>Lodging/residential</td>\n",
       "      <td>78438.0</td>\n",
       "      <td>15.0</td>\n",
       "      <td>0.6</td>\n",
       "      <td>NaN</td>\n",
       "      <td>-4.4</td>\n",
       "      <td>NaN</td>\n",
       "      <td>1015.5</td>\n",
       "      <td>280.0</td>\n",
       "      <td>7.2</td>\n",
       "      <td>2016.0</td>\n",
       "      <td>1.0</td>\n",
       "      <td>27.0</td>\n",
       "      <td>6.0</td>\n",
       "    </tr>\n",
       "    <tr>\n",
       "      <th>1</th>\n",
       "      <td>0</td>\n",
       "      <td>15.6250</td>\n",
       "      <td>152.0</td>\n",
       "      <td>Office</td>\n",
       "      <td>10301.0</td>\n",
       "      <td>1.0</td>\n",
       "      <td>15.3</td>\n",
       "      <td>NaN</td>\n",
       "      <td>12.2</td>\n",
       "      <td>NaN</td>\n",
       "      <td>1009.1</td>\n",
       "      <td>210.0</td>\n",
       "      <td>7.2</td>\n",
       "      <td>2016.0</td>\n",
       "      <td>6.0</td>\n",
       "      <td>29.0</td>\n",
       "      <td>11.0</td>\n",
       "    </tr>\n",
       "    <tr>\n",
       "      <th>2</th>\n",
       "      <td>0</td>\n",
       "      <td>83.3333</td>\n",
       "      <td>850.0</td>\n",
       "      <td>Public services</td>\n",
       "      <td>28590.0</td>\n",
       "      <td>8.0</td>\n",
       "      <td>21.7</td>\n",
       "      <td>2.0</td>\n",
       "      <td>1.1</td>\n",
       "      <td>0.0</td>\n",
       "      <td>1020.2</td>\n",
       "      <td>350.0</td>\n",
       "      <td>4.6</td>\n",
       "      <td>2016.0</td>\n",
       "      <td>4.0</td>\n",
       "      <td>9.0</td>\n",
       "      <td>17.0</td>\n",
       "    </tr>\n",
       "    <tr>\n",
       "      <th>3</th>\n",
       "      <td>0</td>\n",
       "      <td>600.3800</td>\n",
       "      <td>79.0</td>\n",
       "      <td>Office</td>\n",
       "      <td>36240.0</td>\n",
       "      <td>0.0</td>\n",
       "      <td>20.6</td>\n",
       "      <td>2.0</td>\n",
       "      <td>20.0</td>\n",
       "      <td>0.0</td>\n",
       "      <td>1015.7</td>\n",
       "      <td>150.0</td>\n",
       "      <td>3.6</td>\n",
       "      <td>2016.0</td>\n",
       "      <td>11.0</td>\n",
       "      <td>30.0</td>\n",
       "      <td>13.0</td>\n",
       "    </tr>\n",
       "    <tr>\n",
       "      <th>4</th>\n",
       "      <td>1</td>\n",
       "      <td>134.6130</td>\n",
       "      <td>1090.0</td>\n",
       "      <td>Office</td>\n",
       "      <td>305047.0</td>\n",
       "      <td>13.0</td>\n",
       "      <td>19.4</td>\n",
       "      <td>NaN</td>\n",
       "      <td>16.1</td>\n",
       "      <td>-1.0</td>\n",
       "      <td>1008.5</td>\n",
       "      <td>190.0</td>\n",
       "      <td>2.6</td>\n",
       "      <td>2016.0</td>\n",
       "      <td>5.0</td>\n",
       "      <td>24.0</td>\n",
       "      <td>7.0</td>\n",
       "    </tr>\n",
       "  </tbody>\n",
       "</table>\n",
       "</div>"
      ],
      "text/plain": [
       "  meter  meter_reading  building_id          primary_use  square_feet  \\\n",
       "0     0        64.3250       1403.0  Lodging/residential      78438.0   \n",
       "1     0        15.6250        152.0               Office      10301.0   \n",
       "2     0        83.3333        850.0      Public services      28590.0   \n",
       "3     0       600.3800         79.0               Office      36240.0   \n",
       "4     1       134.6130       1090.0               Office     305047.0   \n",
       "\n",
       "   site_id  air_temperature  cloud_coverage  dew_temperature  \\\n",
       "0     15.0              0.6             NaN             -4.4   \n",
       "1      1.0             15.3             NaN             12.2   \n",
       "2      8.0             21.7             2.0              1.1   \n",
       "3      0.0             20.6             2.0             20.0   \n",
       "4     13.0             19.4             NaN             16.1   \n",
       "\n",
       "   precip_depth_1_hr  sea_level_pressure  wind_direction  wind_speed  \\\n",
       "0                NaN              1015.5           280.0         7.2   \n",
       "1                NaN              1009.1           210.0         7.2   \n",
       "2                0.0              1020.2           350.0         4.6   \n",
       "3                0.0              1015.7           150.0         3.6   \n",
       "4               -1.0              1008.5           190.0         2.6   \n",
       "\n",
       "   timestamp_year  timestamp_month  timestamp_day  timestamp_hour  \n",
       "0          2016.0              1.0           27.0             6.0  \n",
       "1          2016.0              6.0           29.0            11.0  \n",
       "2          2016.0              4.0            9.0            17.0  \n",
       "3          2016.0             11.0           30.0            13.0  \n",
       "4          2016.0              5.0           24.0             7.0  "
      ]
     },
     "execution_count": 29,
     "metadata": {},
     "output_type": "execute_result"
    }
   ],
   "source": [
    "df_train.head()"
   ]
  },
  {
   "cell_type": "markdown",
   "metadata": {},
   "source": [
    "### Removing rows of variables with small proportion of missing values"
   ]
  },
  {
   "cell_type": "code",
   "execution_count": 30,
   "metadata": {},
   "outputs": [],
   "source": [
    "# get the dataframe of variables that we will remove their missing values\n",
    "df_miss = df_nan[((df_nan['dtype'] == 'float64') & (df_nan[\"proportion\"] < 0.05))].reset_index(drop=True)"
   ]
  },
  {
   "cell_type": "code",
   "execution_count": 31,
   "metadata": {},
   "outputs": [
    {
     "data": {
      "text/html": [
       "<div>\n",
       "<style scoped>\n",
       "    .dataframe tbody tr th:only-of-type {\n",
       "        vertical-align: middle;\n",
       "    }\n",
       "\n",
       "    .dataframe tbody tr th {\n",
       "        vertical-align: top;\n",
       "    }\n",
       "\n",
       "    .dataframe thead th {\n",
       "        text-align: right;\n",
       "    }\n",
       "</style>\n",
       "<table border=\"1\" class=\"dataframe\">\n",
       "  <thead>\n",
       "    <tr style=\"text-align: right;\">\n",
       "      <th></th>\n",
       "      <th>var</th>\n",
       "      <th>proportion</th>\n",
       "      <th>dtype</th>\n",
       "    </tr>\n",
       "  </thead>\n",
       "  <tbody>\n",
       "    <tr>\n",
       "      <th>0</th>\n",
       "      <td>wind_speed</td>\n",
       "      <td>0.007231</td>\n",
       "      <td>float64</td>\n",
       "    </tr>\n",
       "    <tr>\n",
       "      <th>1</th>\n",
       "      <td>square_feet</td>\n",
       "      <td>0.005418</td>\n",
       "      <td>float64</td>\n",
       "    </tr>\n",
       "    <tr>\n",
       "      <th>2</th>\n",
       "      <td>dew_temperature</td>\n",
       "      <td>0.005024</td>\n",
       "      <td>float64</td>\n",
       "    </tr>\n",
       "    <tr>\n",
       "      <th>3</th>\n",
       "      <td>air_temperature</td>\n",
       "      <td>0.004849</td>\n",
       "      <td>float64</td>\n",
       "    </tr>\n",
       "    <tr>\n",
       "      <th>4</th>\n",
       "      <td>site_id</td>\n",
       "      <td>0.004554</td>\n",
       "      <td>float64</td>\n",
       "    </tr>\n",
       "    <tr>\n",
       "      <th>5</th>\n",
       "      <td>timestamp_year</td>\n",
       "      <td>0.004554</td>\n",
       "      <td>float64</td>\n",
       "    </tr>\n",
       "    <tr>\n",
       "      <th>6</th>\n",
       "      <td>timestamp_month</td>\n",
       "      <td>0.004554</td>\n",
       "      <td>float64</td>\n",
       "    </tr>\n",
       "    <tr>\n",
       "      <th>7</th>\n",
       "      <td>timestamp_day</td>\n",
       "      <td>0.004554</td>\n",
       "      <td>float64</td>\n",
       "    </tr>\n",
       "    <tr>\n",
       "      <th>8</th>\n",
       "      <td>timestamp_hour</td>\n",
       "      <td>0.004554</td>\n",
       "      <td>float64</td>\n",
       "    </tr>\n",
       "  </tbody>\n",
       "</table>\n",
       "</div>"
      ],
      "text/plain": [
       "               var  proportion    dtype\n",
       "0       wind_speed    0.007231  float64\n",
       "1      square_feet    0.005418  float64\n",
       "2  dew_temperature    0.005024  float64\n",
       "3  air_temperature    0.004849  float64\n",
       "4          site_id    0.004554  float64\n",
       "5   timestamp_year    0.004554  float64\n",
       "6  timestamp_month    0.004554  float64\n",
       "7    timestamp_day    0.004554  float64\n",
       "8   timestamp_hour    0.004554  float64"
      ]
     },
     "execution_count": 31,
     "metadata": {},
     "output_type": "execute_result"
    }
   ],
   "source": [
    "df_miss # print df_miss"
   ]
  },
  {
   "cell_type": "code",
   "execution_count": 32,
   "metadata": {},
   "outputs": [],
   "source": [
    "# Remove rows with missing values from df_train\n",
    "df_train = df_train.dropna(subset=np.intersect1d(df_miss['var'], df_train.columns))\n",
    "\n",
    "# Remove rows with missing values from df_valid\n",
    "df_valid = df_valid.dropna(subset=np.intersect1d(df_miss['var'], df_valid.columns))\n",
    "\n"
   ]
  },
  {
   "cell_type": "markdown",
   "metadata": {},
   "source": [
    "### Imputing missing values"
   ]
  },
  {
   "cell_type": "code",
   "execution_count": 33,
   "metadata": {},
   "outputs": [],
   "source": [
    "df_impute = df_nan[((df_nan['dtype'] == 'float64') & (df_nan[\"proportion\"] > 0.05) & (df_nan[\"proportion\"] < 0.5))].reset_index(drop=True)"
   ]
  },
  {
   "cell_type": "code",
   "execution_count": 34,
   "metadata": {},
   "outputs": [
    {
     "data": {
      "text/html": [
       "<div>\n",
       "<style scoped>\n",
       "    .dataframe tbody tr th:only-of-type {\n",
       "        vertical-align: middle;\n",
       "    }\n",
       "\n",
       "    .dataframe tbody tr th {\n",
       "        vertical-align: top;\n",
       "    }\n",
       "\n",
       "    .dataframe thead th {\n",
       "        text-align: right;\n",
       "    }\n",
       "</style>\n",
       "<table border=\"1\" class=\"dataframe\">\n",
       "  <thead>\n",
       "    <tr style=\"text-align: right;\">\n",
       "      <th></th>\n",
       "      <th>var</th>\n",
       "      <th>proportion</th>\n",
       "      <th>dtype</th>\n",
       "    </tr>\n",
       "  </thead>\n",
       "  <tbody>\n",
       "    <tr>\n",
       "      <th>0</th>\n",
       "      <td>cloud_coverage</td>\n",
       "      <td>0.436067</td>\n",
       "      <td>float64</td>\n",
       "    </tr>\n",
       "    <tr>\n",
       "      <th>1</th>\n",
       "      <td>precip_depth_1_hr</td>\n",
       "      <td>0.188672</td>\n",
       "      <td>float64</td>\n",
       "    </tr>\n",
       "    <tr>\n",
       "      <th>2</th>\n",
       "      <td>wind_direction</td>\n",
       "      <td>0.072537</td>\n",
       "      <td>float64</td>\n",
       "    </tr>\n",
       "    <tr>\n",
       "      <th>3</th>\n",
       "      <td>sea_level_pressure</td>\n",
       "      <td>0.061691</td>\n",
       "      <td>float64</td>\n",
       "    </tr>\n",
       "  </tbody>\n",
       "</table>\n",
       "</div>"
      ],
      "text/plain": [
       "                  var  proportion    dtype\n",
       "0      cloud_coverage    0.436067  float64\n",
       "1   precip_depth_1_hr    0.188672  float64\n",
       "2      wind_direction    0.072537  float64\n",
       "3  sea_level_pressure    0.061691  float64"
      ]
     },
     "execution_count": 34,
     "metadata": {},
     "output_type": "execute_result"
    }
   ],
   "source": [
    "df_impute # print df_impute"
   ]
  },
  {
   "cell_type": "markdown",
   "metadata": {},
   "source": [
    "With the assumption that the current measurement is related to the previous record and the next record, we will impute missing values as the average of the two closest data. In other words, the filling method is the combination of forward fill and backward fill."
   ]
  },
  {
   "cell_type": "code",
   "execution_count": 35,
   "metadata": {},
   "outputs": [],
   "source": [
    "for var in df_impute['var']:\n",
    "    df_train[var] = (df_train[var].fillna(method='ffill', inplace = False) + df_train[var].fillna(method='bfill', inplace = False))/2\n",
    "    df_valid[var] = (df_valid[var].fillna(method='ffill', inplace = False) + df_valid[var].fillna(method='bfill', inplace = False))/2"
   ]
  },
  {
   "cell_type": "code",
   "execution_count": 36,
   "metadata": {},
   "outputs": [
    {
     "data": {
      "text/plain": [
       "True"
      ]
     },
     "execution_count": 36,
     "metadata": {},
     "output_type": "execute_result"
    }
   ],
   "source": [
    "df_train.isnull().values.any() # re-checking for nan in df_train"
   ]
  },
  {
   "cell_type": "markdown",
   "metadata": {},
   "source": [
    "There are still missing values in df_train. The reason is that the first or last value is missing so the imputing method is not applicable. To solve this issue, we impute missing values for the first rows using backward fill method, and missing values for the last rows using forward fill method. "
   ]
  },
  {
   "cell_type": "code",
   "execution_count": 37,
   "metadata": {},
   "outputs": [
    {
     "data": {
      "text/html": [
       "<div>\n",
       "<style scoped>\n",
       "    .dataframe tbody tr th:only-of-type {\n",
       "        vertical-align: middle;\n",
       "    }\n",
       "\n",
       "    .dataframe tbody tr th {\n",
       "        vertical-align: top;\n",
       "    }\n",
       "\n",
       "    .dataframe thead th {\n",
       "        text-align: right;\n",
       "    }\n",
       "</style>\n",
       "<table border=\"1\" class=\"dataframe\">\n",
       "  <thead>\n",
       "    <tr style=\"text-align: right;\">\n",
       "      <th></th>\n",
       "      <th>meter</th>\n",
       "      <th>meter_reading</th>\n",
       "      <th>building_id</th>\n",
       "      <th>primary_use</th>\n",
       "      <th>square_feet</th>\n",
       "      <th>site_id</th>\n",
       "      <th>air_temperature</th>\n",
       "      <th>cloud_coverage</th>\n",
       "      <th>dew_temperature</th>\n",
       "      <th>precip_depth_1_hr</th>\n",
       "      <th>sea_level_pressure</th>\n",
       "      <th>wind_direction</th>\n",
       "      <th>wind_speed</th>\n",
       "      <th>timestamp_year</th>\n",
       "      <th>timestamp_month</th>\n",
       "      <th>timestamp_day</th>\n",
       "      <th>timestamp_hour</th>\n",
       "    </tr>\n",
       "  </thead>\n",
       "  <tbody>\n",
       "    <tr>\n",
       "      <th>0</th>\n",
       "      <td>0</td>\n",
       "      <td>64.325</td>\n",
       "      <td>1403.0</td>\n",
       "      <td>Lodging/residential</td>\n",
       "      <td>78438.0</td>\n",
       "      <td>15.0</td>\n",
       "      <td>0.6</td>\n",
       "      <td>NaN</td>\n",
       "      <td>-4.4</td>\n",
       "      <td>NaN</td>\n",
       "      <td>1015.5</td>\n",
       "      <td>280.0</td>\n",
       "      <td>7.2</td>\n",
       "      <td>2016.0</td>\n",
       "      <td>1.0</td>\n",
       "      <td>27.0</td>\n",
       "      <td>6.0</td>\n",
       "    </tr>\n",
       "    <tr>\n",
       "      <th>1</th>\n",
       "      <td>0</td>\n",
       "      <td>15.625</td>\n",
       "      <td>152.0</td>\n",
       "      <td>Office</td>\n",
       "      <td>10301.0</td>\n",
       "      <td>1.0</td>\n",
       "      <td>15.3</td>\n",
       "      <td>NaN</td>\n",
       "      <td>12.2</td>\n",
       "      <td>NaN</td>\n",
       "      <td>1009.1</td>\n",
       "      <td>210.0</td>\n",
       "      <td>7.2</td>\n",
       "      <td>2016.0</td>\n",
       "      <td>6.0</td>\n",
       "      <td>29.0</td>\n",
       "      <td>11.0</td>\n",
       "    </tr>\n",
       "    <tr>\n",
       "      <th>15895989</th>\n",
       "      <td>0</td>\n",
       "      <td>36.000</td>\n",
       "      <td>895.0</td>\n",
       "      <td>Education</td>\n",
       "      <td>55087.0</td>\n",
       "      <td>9.0</td>\n",
       "      <td>36.7</td>\n",
       "      <td>0.0</td>\n",
       "      <td>22.2</td>\n",
       "      <td>0.0</td>\n",
       "      <td>1012.9</td>\n",
       "      <td>NaN</td>\n",
       "      <td>2.6</td>\n",
       "      <td>2016.0</td>\n",
       "      <td>8.0</td>\n",
       "      <td>4.0</td>\n",
       "      <td>20.0</td>\n",
       "    </tr>\n",
       "  </tbody>\n",
       "</table>\n",
       "</div>"
      ],
      "text/plain": [
       "         meter  meter_reading  building_id          primary_use  square_feet  \\\n",
       "0            0         64.325       1403.0  Lodging/residential      78438.0   \n",
       "1            0         15.625        152.0               Office      10301.0   \n",
       "15895989     0         36.000        895.0            Education      55087.0   \n",
       "\n",
       "          site_id  air_temperature  cloud_coverage  dew_temperature  \\\n",
       "0            15.0              0.6             NaN             -4.4   \n",
       "1             1.0             15.3             NaN             12.2   \n",
       "15895989      9.0             36.7             0.0             22.2   \n",
       "\n",
       "          precip_depth_1_hr  sea_level_pressure  wind_direction  wind_speed  \\\n",
       "0                       NaN              1015.5           280.0         7.2   \n",
       "1                       NaN              1009.1           210.0         7.2   \n",
       "15895989                0.0              1012.9             NaN         2.6   \n",
       "\n",
       "          timestamp_year  timestamp_month  timestamp_day  timestamp_hour  \n",
       "0                 2016.0              1.0           27.0             6.0  \n",
       "1                 2016.0              6.0           29.0            11.0  \n",
       "15895989          2016.0              8.0            4.0            20.0  "
      ]
     },
     "execution_count": 37,
     "metadata": {},
     "output_type": "execute_result"
    }
   ],
   "source": [
    "df_train[df_train.isnull().any(axis=1)]"
   ]
  },
  {
   "cell_type": "code",
   "execution_count": 38,
   "metadata": {},
   "outputs": [],
   "source": [
    "for var in df_impute['var']:\n",
    "    df_train[var] = df_train[var].fillna(method='ffill', inplace = False)\n",
    "    df_train[var] = df_train[var].fillna(method='bfill', inplace = False)"
   ]
  },
  {
   "cell_type": "code",
   "execution_count": 39,
   "metadata": {},
   "outputs": [
    {
     "data": {
      "text/plain": [
       "False"
      ]
     },
     "execution_count": 39,
     "metadata": {},
     "output_type": "execute_result"
    }
   ],
   "source": [
    "df_train.isnull().values.any() # re-checking for nan in df_train"
   ]
  },
  {
   "cell_type": "code",
   "execution_count": 40,
   "metadata": {},
   "outputs": [
    {
     "data": {
      "text/plain": [
       "False"
      ]
     },
     "execution_count": 40,
     "metadata": {},
     "output_type": "execute_result"
    }
   ],
   "source": [
    "df_valid.isnull().values.any() # re-checking for nan in df_valid"
   ]
  },
  {
   "cell_type": "markdown",
   "metadata": {},
   "source": [
    "There is no missing value in training set and validation set."
   ]
  },
  {
   "cell_type": "markdown",
   "metadata": {},
   "source": [
    "## Changing data type\n",
    "To reduce memory, we will convert columns with dtypes float64 into float32."
   ]
  },
  {
   "cell_type": "code",
   "execution_count": 41,
   "metadata": {},
   "outputs": [],
   "source": [
    "# get a list of columns whose dtypes are float64\n",
    "df_num_col = df_train.loc[:, df_train.dtypes == 'float64'].columns\n",
    "\n",
    "# convert datetime components from float64 into float32\n",
    "for var in df_num_col:\n",
    "    df_train[var] = df_train[var].astype('float32')\n",
    "    df_valid[var] = df_valid[var].astype('float32')"
   ]
  },
  {
   "cell_type": "code",
   "execution_count": 42,
   "metadata": {},
   "outputs": [
    {
     "name": "stdout",
     "output_type": "stream",
     "text": [
      "<class 'pandas.core.frame.DataFrame'>\n",
      "Int64Index: 15691522 entries, 0 to 15895989\n",
      "Data columns (total 17 columns):\n",
      " #   Column              Dtype  \n",
      "---  ------              -----  \n",
      " 0   meter               object \n",
      " 1   meter_reading       float32\n",
      " 2   building_id         float32\n",
      " 3   primary_use         object \n",
      " 4   square_feet         float32\n",
      " 5   site_id             float32\n",
      " 6   air_temperature     float32\n",
      " 7   cloud_coverage      float32\n",
      " 8   dew_temperature     float32\n",
      " 9   precip_depth_1_hr   float32\n",
      " 10  sea_level_pressure  float32\n",
      " 11  wind_direction      float32\n",
      " 12  wind_speed          float32\n",
      " 13  timestamp_year      float32\n",
      " 14  timestamp_month     float32\n",
      " 15  timestamp_day       float32\n",
      " 16  timestamp_hour      float32\n",
      "dtypes: float32(15), object(2)\n",
      "memory usage: 1.2+ GB\n"
     ]
    }
   ],
   "source": [
    "df_train.info()"
   ]
  },
  {
   "cell_type": "markdown",
   "metadata": {},
   "source": [
    "## Encoding the categorical variables"
   ]
  },
  {
   "cell_type": "code",
   "execution_count": 43,
   "metadata": {},
   "outputs": [],
   "source": [
    "# combine df_train, df_valid and df_test\n",
    "df = pd.concat([df_train, df_valid], sort=False)"
   ]
  },
  {
   "cell_type": "markdown",
   "metadata": {},
   "source": [
    "### Identifying categorical variables"
   ]
  },
  {
   "cell_type": "code",
   "execution_count": 44,
   "metadata": {},
   "outputs": [],
   "source": [
    "def cat_var_checker(df):\n",
    "    \"\"\"\n",
    "    The categorical variable checker\n",
    "\n",
    "    Parameters\n",
    "    ----------\n",
    "    df: the dataframe\n",
    "    \n",
    "    Returns\n",
    "    ----------\n",
    "    The dataframe of categorical variables and their number of unique value\n",
    "    \"\"\"\n",
    "    \n",
    "    # Get the dataframe of categorical variables and their number of unique value\n",
    "    df_cat = pd.DataFrame([[var, df[var].nunique(dropna=False)]\n",
    "                           for var in df.columns if df[var].dtype == 'object'],\n",
    "                          columns=['var', 'nunique'])\n",
    "    \n",
    "    # Sort df_cat in accending order of the number of unique value\n",
    "    df_cat = df_cat.sort_values(by='nunique', ascending=False).reset_index(drop=True)\n",
    "    \n",
    "    return df_cat"
   ]
  },
  {
   "cell_type": "code",
   "execution_count": 45,
   "metadata": {},
   "outputs": [
    {
     "data": {
      "text/html": [
       "<div>\n",
       "<style scoped>\n",
       "    .dataframe tbody tr th:only-of-type {\n",
       "        vertical-align: middle;\n",
       "    }\n",
       "\n",
       "    .dataframe tbody tr th {\n",
       "        vertical-align: top;\n",
       "    }\n",
       "\n",
       "    .dataframe thead th {\n",
       "        text-align: right;\n",
       "    }\n",
       "</style>\n",
       "<table border=\"1\" class=\"dataframe\">\n",
       "  <thead>\n",
       "    <tr style=\"text-align: right;\">\n",
       "      <th></th>\n",
       "      <th>var</th>\n",
       "      <th>nunique</th>\n",
       "    </tr>\n",
       "  </thead>\n",
       "  <tbody>\n",
       "    <tr>\n",
       "      <th>0</th>\n",
       "      <td>primary_use</td>\n",
       "      <td>16</td>\n",
       "    </tr>\n",
       "    <tr>\n",
       "      <th>1</th>\n",
       "      <td>meter</td>\n",
       "      <td>4</td>\n",
       "    </tr>\n",
       "  </tbody>\n",
       "</table>\n",
       "</div>"
      ],
      "text/plain": [
       "           var  nunique\n",
       "0  primary_use       16\n",
       "1        meter        4"
      ]
     },
     "execution_count": 45,
     "metadata": {},
     "output_type": "execute_result"
    }
   ],
   "source": [
    "# Call cat_var_checker on df\n",
    "df_cat = cat_var_checker(df)\n",
    "\n",
    "# Print the dataframe\n",
    "df_cat"
   ]
  },
  {
   "cell_type": "markdown",
   "metadata": {},
   "source": [
    "### One-hot encoding the categorical variables"
   ]
  },
  {
   "cell_type": "code",
   "execution_count": 46,
   "metadata": {},
   "outputs": [
    {
     "data": {
      "text/html": [
       "<div>\n",
       "<style scoped>\n",
       "    .dataframe tbody tr th:only-of-type {\n",
       "        vertical-align: middle;\n",
       "    }\n",
       "\n",
       "    .dataframe tbody tr th {\n",
       "        vertical-align: top;\n",
       "    }\n",
       "\n",
       "    .dataframe thead th {\n",
       "        text-align: right;\n",
       "    }\n",
       "</style>\n",
       "<table border=\"1\" class=\"dataframe\">\n",
       "  <thead>\n",
       "    <tr style=\"text-align: right;\">\n",
       "      <th></th>\n",
       "      <th>meter_reading</th>\n",
       "      <th>building_id</th>\n",
       "      <th>square_feet</th>\n",
       "      <th>site_id</th>\n",
       "      <th>air_temperature</th>\n",
       "      <th>cloud_coverage</th>\n",
       "      <th>dew_temperature</th>\n",
       "      <th>precip_depth_1_hr</th>\n",
       "      <th>sea_level_pressure</th>\n",
       "      <th>wind_direction</th>\n",
       "      <th>...</th>\n",
       "      <th>primary_use_Office</th>\n",
       "      <th>primary_use_Other</th>\n",
       "      <th>primary_use_Parking</th>\n",
       "      <th>primary_use_Public services</th>\n",
       "      <th>primary_use_Religious worship</th>\n",
       "      <th>primary_use_Retail</th>\n",
       "      <th>primary_use_Services</th>\n",
       "      <th>primary_use_Technology/science</th>\n",
       "      <th>primary_use_Utility</th>\n",
       "      <th>primary_use_Warehouse/storage</th>\n",
       "    </tr>\n",
       "  </thead>\n",
       "  <tbody>\n",
       "    <tr>\n",
       "      <th>0</th>\n",
       "      <td>64.324997</td>\n",
       "      <td>1403.0</td>\n",
       "      <td>78438.0</td>\n",
       "      <td>15.0</td>\n",
       "      <td>0.600000</td>\n",
       "      <td>2.0</td>\n",
       "      <td>-4.4</td>\n",
       "      <td>0.0</td>\n",
       "      <td>1015.500000</td>\n",
       "      <td>280.0</td>\n",
       "      <td>...</td>\n",
       "      <td>0</td>\n",
       "      <td>0</td>\n",
       "      <td>0</td>\n",
       "      <td>0</td>\n",
       "      <td>0</td>\n",
       "      <td>0</td>\n",
       "      <td>0</td>\n",
       "      <td>0</td>\n",
       "      <td>0</td>\n",
       "      <td>0</td>\n",
       "    </tr>\n",
       "    <tr>\n",
       "      <th>1</th>\n",
       "      <td>15.625000</td>\n",
       "      <td>152.0</td>\n",
       "      <td>10301.0</td>\n",
       "      <td>1.0</td>\n",
       "      <td>15.300000</td>\n",
       "      <td>2.0</td>\n",
       "      <td>12.2</td>\n",
       "      <td>0.0</td>\n",
       "      <td>1009.099976</td>\n",
       "      <td>210.0</td>\n",
       "      <td>...</td>\n",
       "      <td>1</td>\n",
       "      <td>0</td>\n",
       "      <td>0</td>\n",
       "      <td>0</td>\n",
       "      <td>0</td>\n",
       "      <td>0</td>\n",
       "      <td>0</td>\n",
       "      <td>0</td>\n",
       "      <td>0</td>\n",
       "      <td>0</td>\n",
       "    </tr>\n",
       "    <tr>\n",
       "      <th>2</th>\n",
       "      <td>83.333298</td>\n",
       "      <td>850.0</td>\n",
       "      <td>28590.0</td>\n",
       "      <td>8.0</td>\n",
       "      <td>21.700001</td>\n",
       "      <td>2.0</td>\n",
       "      <td>1.1</td>\n",
       "      <td>0.0</td>\n",
       "      <td>1020.200012</td>\n",
       "      <td>350.0</td>\n",
       "      <td>...</td>\n",
       "      <td>0</td>\n",
       "      <td>0</td>\n",
       "      <td>0</td>\n",
       "      <td>1</td>\n",
       "      <td>0</td>\n",
       "      <td>0</td>\n",
       "      <td>0</td>\n",
       "      <td>0</td>\n",
       "      <td>0</td>\n",
       "      <td>0</td>\n",
       "    </tr>\n",
       "    <tr>\n",
       "      <th>3</th>\n",
       "      <td>600.380005</td>\n",
       "      <td>79.0</td>\n",
       "      <td>36240.0</td>\n",
       "      <td>0.0</td>\n",
       "      <td>20.600000</td>\n",
       "      <td>2.0</td>\n",
       "      <td>20.0</td>\n",
       "      <td>0.0</td>\n",
       "      <td>1015.700012</td>\n",
       "      <td>150.0</td>\n",
       "      <td>...</td>\n",
       "      <td>1</td>\n",
       "      <td>0</td>\n",
       "      <td>0</td>\n",
       "      <td>0</td>\n",
       "      <td>0</td>\n",
       "      <td>0</td>\n",
       "      <td>0</td>\n",
       "      <td>0</td>\n",
       "      <td>0</td>\n",
       "      <td>0</td>\n",
       "    </tr>\n",
       "    <tr>\n",
       "      <th>4</th>\n",
       "      <td>134.613007</td>\n",
       "      <td>1090.0</td>\n",
       "      <td>305047.0</td>\n",
       "      <td>13.0</td>\n",
       "      <td>19.400000</td>\n",
       "      <td>3.0</td>\n",
       "      <td>16.1</td>\n",
       "      <td>-1.0</td>\n",
       "      <td>1008.500000</td>\n",
       "      <td>190.0</td>\n",
       "      <td>...</td>\n",
       "      <td>1</td>\n",
       "      <td>0</td>\n",
       "      <td>0</td>\n",
       "      <td>0</td>\n",
       "      <td>0</td>\n",
       "      <td>0</td>\n",
       "      <td>0</td>\n",
       "      <td>0</td>\n",
       "      <td>0</td>\n",
       "      <td>0</td>\n",
       "    </tr>\n",
       "  </tbody>\n",
       "</table>\n",
       "<p>5 rows × 35 columns</p>\n",
       "</div>"
      ],
      "text/plain": [
       "   meter_reading  building_id  square_feet  site_id  air_temperature  \\\n",
       "0      64.324997       1403.0      78438.0     15.0         0.600000   \n",
       "1      15.625000        152.0      10301.0      1.0        15.300000   \n",
       "2      83.333298        850.0      28590.0      8.0        21.700001   \n",
       "3     600.380005         79.0      36240.0      0.0        20.600000   \n",
       "4     134.613007       1090.0     305047.0     13.0        19.400000   \n",
       "\n",
       "   cloud_coverage  dew_temperature  precip_depth_1_hr  sea_level_pressure  \\\n",
       "0             2.0             -4.4                0.0         1015.500000   \n",
       "1             2.0             12.2                0.0         1009.099976   \n",
       "2             2.0              1.1                0.0         1020.200012   \n",
       "3             2.0             20.0                0.0         1015.700012   \n",
       "4             3.0             16.1               -1.0         1008.500000   \n",
       "\n",
       "   wind_direction  ...  primary_use_Office  primary_use_Other  \\\n",
       "0           280.0  ...                   0                  0   \n",
       "1           210.0  ...                   1                  0   \n",
       "2           350.0  ...                   0                  0   \n",
       "3           150.0  ...                   1                  0   \n",
       "4           190.0  ...                   1                  0   \n",
       "\n",
       "   primary_use_Parking  primary_use_Public services  \\\n",
       "0                    0                            0   \n",
       "1                    0                            0   \n",
       "2                    0                            1   \n",
       "3                    0                            0   \n",
       "4                    0                            0   \n",
       "\n",
       "   primary_use_Religious worship  primary_use_Retail  primary_use_Services  \\\n",
       "0                              0                   0                     0   \n",
       "1                              0                   0                     0   \n",
       "2                              0                   0                     0   \n",
       "3                              0                   0                     0   \n",
       "4                              0                   0                     0   \n",
       "\n",
       "   primary_use_Technology/science  primary_use_Utility  \\\n",
       "0                               0                    0   \n",
       "1                               0                    0   \n",
       "2                               0                    0   \n",
       "3                               0                    0   \n",
       "4                               0                    0   \n",
       "\n",
       "   primary_use_Warehouse/storage  \n",
       "0                              0  \n",
       "1                              0  \n",
       "2                              0  \n",
       "3                              0  \n",
       "4                              0  \n",
       "\n",
       "[5 rows x 35 columns]"
      ]
     },
     "execution_count": 46,
     "metadata": {},
     "output_type": "execute_result"
    }
   ],
   "source": [
    "# One-hot-encode the categorical features in the combined data\n",
    "df = pd.get_dummies(df, columns=np.setdiff1d(df_cat['var'], [target]))\n",
    "\n",
    "# Print the first 5 rows of df\n",
    "df.head()"
   ]
  },
  {
   "cell_type": "markdown",
   "metadata": {},
   "source": [
    "### Seperating training and validation sets"
   ]
  },
  {
   "cell_type": "code",
   "execution_count": 47,
   "metadata": {},
   "outputs": [],
   "source": [
    "# Separating the training data\n",
    "df_train = df.iloc[:df_train.shape[0], :].copy(deep=True)\n",
    "\n",
    "# Separating the validation data\n",
    "df_valid = df.iloc[df_train.shape[0]:df_train.shape[0] + df_valid.shape[0], :].copy(deep=True)"
   ]
  },
  {
   "cell_type": "markdown",
   "metadata": {},
   "source": [
    "## Scaling data"
   ]
  },
  {
   "cell_type": "markdown",
   "metadata": {},
   "source": [
    "### Transforming target variable using Natural logarithm"
   ]
  },
  {
   "cell_type": "markdown",
   "metadata": {},
   "source": [
    "According to the [evaluation metric](https://www.kaggle.com/c/ashrae-energy-prediction/overview/evaluation) from the competition, we will apply natural logarithm transformation to the meter_reading variable."
   ]
  },
  {
   "cell_type": "code",
   "execution_count": 48,
   "metadata": {},
   "outputs": [],
   "source": [
    "df_train[target] = np.log1p(df_train[target]) # apply log1p transformation to df_train\n",
    "df_valid[target] = np.log1p(df_valid[target]) # apply log1p transformation to df_valid"
   ]
  },
  {
   "cell_type": "markdown",
   "metadata": {},
   "source": [
    "### Standardizing data"
   ]
  },
  {
   "cell_type": "markdown",
   "metadata": {},
   "source": [
    "Since the features are measured in various scales, we need to standardize them. We will use StandardScaler to do it."
   ]
  },
  {
   "cell_type": "code",
   "execution_count": 49,
   "metadata": {},
   "outputs": [],
   "source": [
    "from sklearn.preprocessing import StandardScaler\n",
    "\n",
    "# The StandardScaler\n",
    "ss = StandardScaler()\n",
    "\n",
    "\n",
    "# Standardize the training data\n",
    "df_train = pd.DataFrame(ss.fit_transform(df_train), columns=df_train.columns) \n",
    "\n",
    "# Standardize the validation data\n",
    "df_valid = pd.DataFrame(ss.transform(df_valid), columns=df_valid.columns)"
   ]
  },
  {
   "cell_type": "code",
   "execution_count": 50,
   "metadata": {},
   "outputs": [],
   "source": [
    "del df # remove df to save memory"
   ]
  },
  {
   "cell_type": "markdown",
   "metadata": {},
   "source": [
    "## Getting feature matrix and target vector"
   ]
  },
  {
   "cell_type": "code",
   "execution_count": 51,
   "metadata": {},
   "outputs": [],
   "source": [
    "# Get the feature matrix\n",
    "X_train = df_train[np.setdiff1d(df_train.columns, [target])]\n",
    "X_valid = df_valid[np.setdiff1d(df_valid.columns, [target])]\n",
    "\n",
    "\n",
    "# Get the target vector\n",
    "y_train = df_train[target]\n",
    "y_valid = df_valid[target]"
   ]
  },
  {
   "cell_type": "markdown",
   "metadata": {},
   "source": [
    "# Modeling"
   ]
  },
  {
   "cell_type": "markdown",
   "metadata": {},
   "source": [
    "For this project, we will use 3 models to predict the meter_reading: Linear Regression, Light Gradient Boosting Machine and Multi-layer Perceptron."
   ]
  },
  {
   "cell_type": "code",
   "execution_count": 52,
   "metadata": {},
   "outputs": [],
   "source": [
    "# helper functions to upload data to s3\n",
    "prefix ='sagemaker'\n",
    "\n",
    "def write_to_s3(filename, bucket, prefix):\n",
    "    filename_key = filename.split('.')[0]\n",
    "    key = \"{}/{}/{}\".format(prefix,filename_key,filename)\n",
    "    return s3.Bucket(bucket).upload_file(filename,key)\n",
    "\n",
    "def upload_to_s3(bucket, prefix, filename):\n",
    "    url = 's3://{}/{}/{}'.format(bucket, prefix, filename)\n",
    "    print('Writing data to {}'.format(url))\n",
    "    write_to_s3(filename, bucket, prefix)"
   ]
  },
  {
   "cell_type": "markdown",
   "metadata": {},
   "source": [
    "## Create a dictionary of the models"
   ]
  },
  {
   "cell_type": "code",
   "execution_count": 53,
   "metadata": {},
   "outputs": [],
   "source": [
    "from sklearn.linear_model import LinearRegression\n",
    "from lightgbm.sklearn import LGBMRegressor\n",
    "from sklearn.neural_network import MLPRegressor"
   ]
  },
  {
   "cell_type": "markdown",
   "metadata": {},
   "source": [
    "- In the dictionary:\n",
    "    - the key is the acronym of the model\n",
    "    - the value is the model"
   ]
  },
  {
   "cell_type": "code",
   "execution_count": 71,
   "metadata": {},
   "outputs": [],
   "source": [
    "models = {'lr': LinearRegression(),\n",
    "          'lgbm': LGBMRegressor(n_estimators=10, feature_fraction=0.9, bagging_fraction=0.8, bagging_freq=5, random_state=42),\n",
    "          'mlpr': MLPRegressor(early_stopping=True, random_state=42) }"
   ]
  },
  {
   "cell_type": "markdown",
   "metadata": {},
   "source": [
    "## Create a dictionary of the pipelines"
   ]
  },
  {
   "cell_type": "markdown",
   "metadata": {},
   "source": [
    "In the dictionary:\n",
    "- the key is the acronym of the model\n",
    "- the value is the pipeline, which, for now, only includes the model"
   ]
  },
  {
   "cell_type": "code",
   "execution_count": 72,
   "metadata": {},
   "outputs": [],
   "source": [
    "from sklearn.pipeline import Pipeline\n",
    "\n",
    "pipes = {}\n",
    "\n",
    "for acronym, model in models.items():\n",
    "    pipes[acronym] = Pipeline([('model', model)])"
   ]
  },
  {
   "cell_type": "markdown",
   "metadata": {},
   "source": [
    "## Hyperparameter tuning and model selection"
   ]
  },
  {
   "cell_type": "markdown",
   "metadata": {},
   "source": [
    "### Getting the predefined split cross-validator"
   ]
  },
  {
   "cell_type": "code",
   "execution_count": 73,
   "metadata": {},
   "outputs": [],
   "source": [
    "from sklearn.model_selection import PredefinedSplit\n",
    "\n",
    "# Combine the feature matrix in the training and validation data\n",
    "X_train_valid = pd.concat([X_train, X_valid], ignore_index=True, sort=False)\n",
    "\n",
    "# Combine the target vector in the training and validation data\n",
    "y_train_valid = pd.concat([y_train, y_valid], ignore_index=True, sort=False)\n",
    "\n",
    "# Get the indices of training and validation data\n",
    "train_valid_idxs = np.append(np.full(X_train.shape[0], -1), np.full(X_valid.shape[0], 0))\n",
    "\n",
    "# The PredefinedSplit\n",
    "ps = PredefinedSplit(train_valid_idxs)"
   ]
  },
  {
   "cell_type": "markdown",
   "metadata": {},
   "source": [
    "### Creating the dictionary of the parameter grids"
   ]
  },
  {
   "cell_type": "markdown",
   "metadata": {},
   "source": [
    "- In the dictionary:\n",
    "    - the key is the acronym of the model\n",
    "    - the value is the parameter grid of the model"
   ]
  },
  {
   "cell_type": "code",
   "execution_count": 74,
   "metadata": {},
   "outputs": [],
   "source": [
    "param_grids = {}"
   ]
  },
  {
   "cell_type": "markdown",
   "metadata": {},
   "source": [
    "### The parameter grid for LinearRegression\n",
    "Since the sklearn LinearRegression is based on the normal equation (a closed-form solution), it is not essential to fine-tune the hyperparameters of the model."
   ]
  },
  {
   "cell_type": "code",
   "execution_count": 75,
   "metadata": {},
   "outputs": [],
   "source": [
    "param_grids['lr'] = [{}]"
   ]
  },
  {
   "cell_type": "markdown",
   "metadata": {},
   "source": [
    "### The parameter grid for LightGBM\n",
    "The hyperparameters we want to fine-tune are:\n",
    "- learning_rate \n",
    "- min_data_in_leaf\n",
    "- reg_alpha\n",
    "- reg_lambda"
   ]
  },
  {
   "cell_type": "code",
   "execution_count": 76,
   "metadata": {},
   "outputs": [],
   "source": [
    "# The grids for learning_rate\n",
    "learning_rate_grids = [10 ** i for i in range(-3, 0)]\n",
    "\n",
    "# The grids for min_data_in_leaf, we set high values for big dataset to reduce overfitting\n",
    "min_data_in_leaf_grids = [100, 1000]\n",
    "\n",
    "# The grids for reg_alpha\n",
    "reg_alpha_grids = [10 ** i for i in range(-1, 2)]\n",
    "\n",
    "# The grids for reg_lambda\n",
    "reg_lambda_grids = [10 ** i for i in range(-1, 2)]\n",
    "\n",
    "# Update param_grids\n",
    "param_grids['lgbm'] = [{'model__learning_rate': learning_rate_grids,\n",
    "                        'model__min_data_in_leaf': min_data_in_leaf_grids,\n",
    "                        'model__reg_alpha': reg_alpha_grids,\n",
    "                        'model__reg_lambda': reg_lambda_grids }]"
   ]
  },
  {
   "cell_type": "markdown",
   "metadata": {},
   "source": [
    "### The parameter grid for MLPRegressor"
   ]
  },
  {
   "cell_type": "markdown",
   "metadata": {},
   "source": [
    "The hyperparameters we want to fine-tune are:\n",
    "- learning_rate_init \n"
   ]
  },
  {
   "cell_type": "code",
   "execution_count": 77,
   "metadata": {},
   "outputs": [],
   "source": [
    "# The grids for learning_rate_init\n",
    "learning_rate_init_grids = [10 ** i for i in range(-3, 0)]\n",
    "\n",
    "# Update param_grids\n",
    "param_grids['mlpr'] = [{'model__learning_rate_init': learning_rate_init_grids}]"
   ]
  },
  {
   "cell_type": "markdown",
   "metadata": {},
   "source": [
    "### Creating the directory for GridSearchCV results"
   ]
  },
  {
   "cell_type": "code",
   "execution_count": 84,
   "metadata": {},
   "outputs": [
    {
     "name": "stdout",
     "output_type": "stream",
     "text": [
      "Writing data to s3://dataset.finalproject.cc2020/sagemaker/lr.csv\n",
      "Writing data to s3://dataset.finalproject.cc2020/sagemaker/lgbm.csv\n",
      "Writing data to s3://dataset.finalproject.cc2020/sagemaker/mlpr.csv\n"
     ]
    }
   ],
   "source": [
    "from sklearn.model_selection import GridSearchCV\n",
    "\n",
    "# The list of [best_score_, best_params_, best_estimator_] obtained by GridSearchCV\n",
    "best_score_param_estimator_gs = []\n",
    "\n",
    "for acronym in pipes.keys():\n",
    "    # GridSearchCV\n",
    "    gs = GridSearchCV(estimator=pipes[acronym],\n",
    "                      param_grid=param_grids[acronym],\n",
    "                      scoring='neg_mean_squared_error',\n",
    "                      n_jobs=3,\n",
    "                      cv=ps,\n",
    "                      return_train_score=True)\n",
    "        \n",
    "    # Fit the pipeline\n",
    "    gs = gs.fit(X_train_valid, y_train_valid)\n",
    "    \n",
    "    # Update best_score_param_estimator_gs\n",
    "    best_score_param_estimator_gs.append([gs.best_score_, gs.best_params_, gs.best_estimator_])\n",
    "    \n",
    "    # Sort cv_results in ascending order of 'rank_test_score' and 'std_test_score'\n",
    "    cv_results = pd.DataFrame.from_dict(gs.cv_results_).sort_values(by=['rank_test_score', 'std_test_score'])\n",
    "    \n",
    "    # Get the important columns in cv_results\n",
    "    important_columns = ['rank_test_score',\n",
    "                         'mean_test_score', \n",
    "                         'std_test_score', \n",
    "                         'mean_train_score', \n",
    "                         'std_train_score',\n",
    "                         'mean_fit_time', \n",
    "                         'std_fit_time',                        \n",
    "                         'mean_score_time', \n",
    "                         'std_score_time']\n",
    "    \n",
    "    # Move the important columns ahead\n",
    "    cv_results = cv_results[important_columns + sorted(list(set(cv_results.columns) - set(important_columns)))]\n",
    "    \n",
    "    # Write cv_results file\n",
    "    cv_results.to_csv(path_or_buf = acronym + '.csv', index=False)\n",
    "    \n",
    "    # upload results to s3 bucket\n",
    "    upload_to_s3(bucket, prefix, filename = acronym + '.csv')"
   ]
  },
  {
   "cell_type": "markdown",
   "metadata": {},
   "source": [
    "## GridSearchCV Results"
   ]
  },
  {
   "cell_type": "code",
   "execution_count": 85,
   "metadata": {},
   "outputs": [
    {
     "data": {
      "text/html": [
       "<div>\n",
       "<style scoped>\n",
       "    .dataframe tbody tr th:only-of-type {\n",
       "        vertical-align: middle;\n",
       "    }\n",
       "\n",
       "    .dataframe tbody tr th {\n",
       "        vertical-align: top;\n",
       "    }\n",
       "\n",
       "    .dataframe thead th {\n",
       "        text-align: right;\n",
       "    }\n",
       "</style>\n",
       "<table border=\"1\" class=\"dataframe\">\n",
       "  <thead>\n",
       "    <tr style=\"text-align: right;\">\n",
       "      <th></th>\n",
       "      <th>best_score</th>\n",
       "      <th>best_param</th>\n",
       "      <th>best_estimator</th>\n",
       "    </tr>\n",
       "  </thead>\n",
       "  <tbody>\n",
       "    <tr>\n",
       "      <th>0</th>\n",
       "      <td>-0.385137</td>\n",
       "      <td>{'model__learning_rate_init': 0.001}</td>\n",
       "      <td>(MLPRegressor(activation='relu', alpha=0.0001,...</td>\n",
       "    </tr>\n",
       "    <tr>\n",
       "      <th>1</th>\n",
       "      <td>-0.659932</td>\n",
       "      <td>{'model__learning_rate': 0.1, 'model__min_data...</td>\n",
       "      <td>(LGBMRegressor(bagging_fraction=0.8, bagging_f...</td>\n",
       "    </tr>\n",
       "    <tr>\n",
       "      <th>2</th>\n",
       "      <td>-0.800530</td>\n",
       "      <td>{}</td>\n",
       "      <td>(LinearRegression(copy_X=True, fit_intercept=T...</td>\n",
       "    </tr>\n",
       "  </tbody>\n",
       "</table>\n",
       "</div>"
      ],
      "text/plain": [
       "   best_score                                         best_param  \\\n",
       "0   -0.385137               {'model__learning_rate_init': 0.001}   \n",
       "1   -0.659932  {'model__learning_rate': 0.1, 'model__min_data...   \n",
       "2   -0.800530                                                 {}   \n",
       "\n",
       "                                      best_estimator  \n",
       "0  (MLPRegressor(activation='relu', alpha=0.0001,...  \n",
       "1  (LGBMRegressor(bagging_fraction=0.8, bagging_f...  \n",
       "2  (LinearRegression(copy_X=True, fit_intercept=T...  "
      ]
     },
     "execution_count": 85,
     "metadata": {},
     "output_type": "execute_result"
    }
   ],
   "source": [
    "# Sort best_score_param_estimator_gs in descending order of the best_score_\n",
    "best_score_param_estimator_gs = sorted(best_score_param_estimator_gs, key=lambda x : x[0], reverse=True)\n",
    "\n",
    "# Print best_score_param_estimator_gs\n",
    "pd.DataFrame(best_score_param_estimator_gs, columns=['best_score', 'best_param', 'best_estimator'])"
   ]
  },
  {
   "cell_type": "markdown",
   "metadata": {},
   "source": [
    "According to the results, MLPRegressor is the best model. LightGBM is the second best one, and Linear Regression has the worst performance."
   ]
  },
  {
   "cell_type": "code",
   "execution_count": 86,
   "metadata": {},
   "outputs": [],
   "source": [
    "# Get the best_score, best_param and best_estimator of LightGBM\n",
    "best_score_lgbm, best_param_lgbm, best_estimator_lgbm = best_score_param_estimator_gs[0]\n",
    "\n",
    "# Get the best_score, best_param and best_estimator of MLP\n",
    "best_score_mlp, best_param_mlp, best_estimator_mlp = best_score_param_estimator_gs[1]\n",
    "\n",
    "# Get the best_score, best_param and best_estimator of Linear Regression\n",
    "best_score_lr, best_param_lr, best_estimator_lr = best_score_param_estimator_gs[2]"
   ]
  },
  {
   "cell_type": "markdown",
   "metadata": {},
   "source": [
    "## Feature Importance\n",
    "We will have a look at the features that greatly contribute to the prediction in the best model: Multi-layer Perceptron."
   ]
  },
  {
   "cell_type": "code",
   "execution_count": 88,
   "metadata": {},
   "outputs": [
    {
     "data": {
      "text/html": [
       "<div>\n",
       "<style scoped>\n",
       "    .dataframe tbody tr th:only-of-type {\n",
       "        vertical-align: middle;\n",
       "    }\n",
       "\n",
       "    .dataframe tbody tr th {\n",
       "        vertical-align: top;\n",
       "    }\n",
       "\n",
       "    .dataframe thead th {\n",
       "        text-align: right;\n",
       "    }\n",
       "</style>\n",
       "<table border=\"1\" class=\"dataframe\">\n",
       "  <thead>\n",
       "    <tr style=\"text-align: right;\">\n",
       "      <th></th>\n",
       "      <th>Features</th>\n",
       "      <th>Importance</th>\n",
       "    </tr>\n",
       "  </thead>\n",
       "  <tbody>\n",
       "    <tr>\n",
       "      <th>0</th>\n",
       "      <td>building_id</td>\n",
       "      <td>100</td>\n",
       "    </tr>\n",
       "    <tr>\n",
       "      <th>1</th>\n",
       "      <td>square_feet</td>\n",
       "      <td>50</td>\n",
       "    </tr>\n",
       "    <tr>\n",
       "      <th>2</th>\n",
       "      <td>air_temperature</td>\n",
       "      <td>28</td>\n",
       "    </tr>\n",
       "    <tr>\n",
       "      <th>3</th>\n",
       "      <td>meter_3.0</td>\n",
       "      <td>22</td>\n",
       "    </tr>\n",
       "    <tr>\n",
       "      <th>4</th>\n",
       "      <td>site_id</td>\n",
       "      <td>20</td>\n",
       "    </tr>\n",
       "  </tbody>\n",
       "</table>\n",
       "</div>"
      ],
      "text/plain": [
       "          Features Importance\n",
       "0      building_id        100\n",
       "1      square_feet         50\n",
       "2  air_temperature         28\n",
       "3        meter_3.0         22\n",
       "4          site_id         20"
      ]
     },
     "execution_count": 88,
     "metadata": {},
     "output_type": "execute_result"
    }
   ],
   "source": [
    "features = np.setdiff1d(df_train.columns, [target]) # getting the names of features\n",
    "\n",
    "# Get the dataframe of feature and importance\n",
    "df_fi = pd.DataFrame(np.hstack((features.reshape(-1, 1), best_estimator_mlp.named_steps['model'].feature_importances_.reshape(-1, 1))),\n",
    "                         columns=['Features', 'Importance'])\n",
    "\n",
    "# Sort df_fi_rfc in descending order of the importance\n",
    "df_fi = df_fi.sort_values(ascending=False, by='Importance').reset_index(drop=True)\n",
    "\n",
    "# Print the first 5 rows of df_fi_rfc\n",
    "df_fi.head()"
   ]
  },
  {
   "cell_type": "code",
   "execution_count": 92,
   "metadata": {},
   "outputs": [
    {
     "data": {
      "image/png": "[encoded data removed]",
      "text/plain": [
       "<Figure size 720x720 with 1 Axes>"
      ]
     },
     "metadata": {
      "needs_background": "light"
     },
     "output_type": "display_data"
    }
   ],
   "source": [
    "# Create a figure to plot top 15 importance features\n",
    "fig = plt.figure(figsize=(10, 10))\n",
    "\n",
    "# The bar plot of the top 15 feature importance\n",
    "df_fi_top = df_fi.iloc[0:15]\n",
    "plt.bar(df_fi_top['Features'], df_fi_top['Importance'], color='blue')\n",
    "\n",
    "# Set x-axis\n",
    "plt.xlabel('Features')\n",
    "plt.xticks(rotation=90)\n",
    "\n",
    "# Set y-axis\n",
    "plt.ylabel('Importance')\n",
    "\n",
    "# title\n",
    "plt.title(\"Multi-layer Perceptron - Feature Importance\", fontsize=15)\n",
    "\n",
    "# Save and show the figure\n",
    "plt.tight_layout()\n",
    "plt.savefig('Feature_Importance_MLP.pdf')\n",
    "plt.show()\n",
    "\n"
   ]
  },
  {
   "cell_type": "markdown",
   "metadata": {},
   "source": [
    "The most important predictors in MLP model are building_id, the area of building's floor, the temperature, the energy type and the primary category of activities for the building. Moreover, time series component also contributes to the forecast of energy consumption."
   ]
  },
  {
   "cell_type": "code",
   "execution_count": 93,
   "metadata": {},
   "outputs": [
    {
     "name": "stdout",
     "output_type": "stream",
     "text": [
      "Writing data to s3://dataset.finalproject.cc2020/sagemaker/Feature_Importance_MLP.pdf\n"
     ]
    }
   ],
   "source": [
    "# upload figure to s3 bucket\n",
    "upload_to_s3(bucket, prefix, filename = 'Feature_Importance_MLP.pdf')"
   ]
  },
  {
   "cell_type": "markdown",
   "metadata": {},
   "source": [
    "# Conclusion"
   ]
  },
  {
   "cell_type": "markdown",
   "metadata": {},
   "source": [
    "<div style=\"text-align: justify\">This project proposes the utilization of AWS services in a real big data problem. S3 bucket gives flexibility to store and load data without worrying about memory usage. AWS Athena with friendly SQL syntax and queries is useful for overall data exploration. The JOIN command makes it easier to work with multiple datasets and features. AWS Sagemaker provides many benefits for preprocessing big data and building complex models . With the help of AWS Sagemaker, it is easier to handle more than 20 million observations and 15 features from 3 datasets. Moreover, the computation power from Sagemaker instance helps to accelerate the training and hyper-parameter tuning tasks which would last hours in a local machine.</div>"
   ]
  },
  {
   "cell_type": "code",
   "execution_count": null,
   "metadata": {},
   "outputs": [],
   "source": []
  }
 ],
 "metadata": {
  "kernelspec": {
   "display_name": "conda_python3",
   "language": "python",
   "name": "conda_python3"
  },
  "language_info": {
   "codemirror_mode": {
    "name": "ipython",
    "version": 3
   },
   "file_extension": ".py",
   "mimetype": "text/x-python",
   "name": "python",
   "nbconvert_exporter": "python",
   "pygments_lexer": "ipython3",
   "version": "3.6.10"
  }
 },
 "nbformat": 4,
 "nbformat_minor": 4
}
